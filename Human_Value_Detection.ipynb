{
  "cells": [
    {
      "cell_type": "markdown",
      "metadata": {
        "id": "XpZwBJX7dmPS"
      },
      "source": [
        "# **Human Value Detection - SemEval 2023**\n",
        "## **ValueEval: Identification of Human Values behind Arguments**\n",
        "\n",
        "### **Natural Language Processing**"
      ]
    },
    {
      "cell_type": "markdown",
      "metadata": {
        "id": "fgCmj_TbfNt8"
      },
      "source": [
        "### **Task**\n",
        "\n",
        "The aim of this project is to provide a solution to the multi-label **Human Value Detection** problem from [Touché SemEval 2023 Task 4](https://touche.webis.de/semeval23/touche23-web/index.html): *ValueEval - Identification of Human Values behind Arguments*.\n",
        "\n",
        "Given a textual argument and a human value category, the goal is to classify whether or not the argument draws on that category. This task uses a set of 20 human value categories compiled from the social science literature and described in the paper [Identifying the Human Values behind Arguments](https://webis.de/downloads/publications/papers/kiesel_2022b.pdf).\n",
        "\n",
        "The arguments are given as:\n",
        "- premise text\n",
        "- conclusion text\n",
        "- binary stance of the premise to the conclusion: \"*in favor of*\" or \"*against*\""
      ]
    },
    {
      "cell_type": "markdown",
      "metadata": {
        "id": "euFpYhievUCX"
      },
      "source": [
        "### Import libraries and initial settings\n",
        "\n"
      ]
    },
    {
      "cell_type": "code",
      "execution_count": null,
      "metadata": {
        "id": "-zRRl606cu_g"
      },
      "outputs": [],
      "source": [
        "!pip install contractions\n",
        "!pip install nltk\n",
        "!pip install spacy\n",
        "!pip install transformers==4.28.1\n",
        "!pip install datasets\n",
        "!pip install evaluate"
      ]
    },
    {
      "cell_type": "code",
      "execution_count": 2,
      "metadata": {
        "id": "L65LnnR_nrJL"
      },
      "outputs": [],
      "source": [
        "import os\n",
        "import re\n",
        "import sys\n",
        "import random\n",
        "import string\n",
        "from collections import Counter\n",
        "\n",
        "import numpy as np\n",
        "import pandas as pd\n",
        "import matplotlib.pyplot as plt\n",
        "import seaborn as sns\n",
        "import datasets\n",
        "from datasets import Features, Value, Sequence\n",
        "\n",
        "from google.colab import drive, files\n",
        "\n",
        "import torch\n",
        "\n",
        "import nltk\n",
        "from nltk.corpus import stopwords\n",
        "import spacy #lemmatization\n",
        "import contractions\n",
        "from statistics import mean\n",
        "\n",
        "import sklearn.metrics\n",
        "from sklearn.utils import shuffle\n",
        "from sklearn.pipeline import Pipeline, make_pipeline\n",
        "from sklearn.metrics import f1_score, roc_auc_score, classification_report, ConfusionMatrixDisplay, multilabel_confusion_matrix\n",
        "from sklearn.preprocessing import MultiLabelBinarizer\n",
        "from sklearn.feature_extraction.text import TfidfVectorizer\n",
        "from sklearn.svm import SVC\n",
        "from sklearn.multioutput import MultiOutputClassifier\n",
        "\n",
        "from transformers import AutoModelForSequenceClassification, AutoTokenizer, EvalPrediction, Trainer, TrainingArguments\n",
        "from transformers.modeling_outputs import SequenceClassifierOutput"
      ]
    },
    {
      "cell_type": "code",
      "execution_count": 3,
      "metadata": {
        "colab": {
          "base_uri": "https://localhost:8080/"
        },
        "id": "YBiTPgFziBFl",
        "outputId": "7ba671e8-58c3-4bf7-bfca-d2d125681446"
      },
      "outputs": [
        {
          "name": "stdout",
          "output_type": "stream",
          "text": [
            "Mounted at /content/drive\n"
          ]
        }
      ],
      "source": [
        "from google.colab import drive\n",
        "drive.mount('/content/drive')"
      ]
    },
    {
      "cell_type": "code",
      "execution_count": 4,
      "metadata": {
        "id": "zLFr6Ll2hGdH"
      },
      "outputs": [],
      "source": [
        "random_seed = 42\n",
        "\n",
        "def set_reproducibility(seed):\n",
        "    \"\"\"\n",
        "    Set a random seed for reproducibility\n",
        "\n",
        "    :param seed: random seed\n",
        "    \"\"\"\n",
        "    random.seed(seed)\n",
        "    np.random.seed(seed)\n",
        "    torch.manual_seed(seed)\n",
        "    os.environ['TF_DETERMINISTIC_OPS'] = '1'\n",
        "\n",
        "set_reproducibility(random_seed)"
      ]
    },
    {
      "cell_type": "code",
      "execution_count": 5,
      "metadata": {
        "id": "3lYnzX3ufmV2"
      },
      "outputs": [],
      "source": [
        "# folder where the project files are located\n",
        "drive_path = 'drive/MyDrive/ProjectNLP/'"
      ]
    },
    {
      "cell_type": "code",
      "execution_count": 6,
      "metadata": {
        "id": "8HAiYoP-OsNV"
      },
      "outputs": [],
      "source": [
        "device = torch.device(\"cuda\" if torch.cuda.is_available() else \"cpu\")"
      ]
    },
    {
      "cell_type": "markdown",
      "metadata": {
        "id": "f5IhSpgPnd6k"
      },
      "source": [
        "### Data loading and Dataframe creation\n",
        "\n"
      ]
    },
    {
      "cell_type": "code",
      "execution_count": 7,
      "metadata": {
        "id": "X6Yh6d_4GQ3D"
      },
      "outputs": [],
      "source": [
        "# path where the .tsv data files for training, validation and test are stored\n",
        "data_path = 'data/'"
      ]
    },
    {
      "cell_type": "code",
      "execution_count": 8,
      "metadata": {
        "id": "0gCcdU9oNL2u"
      },
      "outputs": [],
      "source": [
        "def create_dataframe_split(path, split):\n",
        "  ''' Creates a dataframe for the arguments and the labels\n",
        "  given the file path and the split\n",
        "\n",
        "  :param path: path where the dataset files are located\n",
        "  :param split: dataset split\n",
        "\n",
        "  :return arguments_df: dataframe with arguments\n",
        "  :return labels_df: dataframe with labels\n",
        "  '''\n",
        "  arguments_df = pd.read_csv(path + data_path + 'arguments-' + split + '.tsv', sep='\\t')\n",
        "  labels_df = pd.read_csv(path + data_path + 'labels-' + split + '.tsv', sep='\\t')\n",
        "  labels = [labels_df.iloc[i].to_numpy()[1:] for i in range(len(arguments_df))]\n",
        "  arguments_df['labels'] = labels\n",
        "\n",
        "  return arguments_df, labels_df"
      ]
    },
    {
      "cell_type": "code",
      "execution_count": 9,
      "metadata": {
        "id": "LXwDJnhhOprX"
      },
      "outputs": [],
      "source": [
        "# create dataframes for each dataset split and related labels\n",
        "df_train, train_labels = create_dataframe_split(drive_path, 'training')\n",
        "df_val, val_labels = create_dataframe_split(drive_path, 'validation')\n",
        "df_test, test_labels = create_dataframe_split(drive_path, 'test')"
      ]
    },
    {
      "cell_type": "markdown",
      "metadata": {
        "id": "fNFd_t6ae1lz"
      },
      "source": [
        "Showing some training set examples of arguments premise, stance and conclusion and the corresponding labels"
      ]
    },
    {
      "cell_type": "code",
      "execution_count": 10,
      "metadata": {
        "colab": {
          "base_uri": "https://localhost:8080/",
          "height": 419
        },
        "id": "LCV2oCf3nlvz",
        "outputId": "bd1f1cf1-64cd-4c68-baf4-3a65bd71ff71"
      },
      "outputs": [
        {
          "data": {
            "text/html": [
              "\n",
              "  <div id=\"df-638c1597-7a11-4364-9803-eaf2e1352f96\">\n",
              "    <div class=\"colab-df-container\">\n",
              "      <div>\n",
              "<style scoped>\n",
              "    .dataframe tbody tr th:only-of-type {\n",
              "        vertical-align: middle;\n",
              "    }\n",
              "\n",
              "    .dataframe tbody tr th {\n",
              "        vertical-align: top;\n",
              "    }\n",
              "\n",
              "    .dataframe thead th {\n",
              "        text-align: right;\n",
              "    }\n",
              "</style>\n",
              "<table border=\"1\" class=\"dataframe\">\n",
              "  <thead>\n",
              "    <tr style=\"text-align: right;\">\n",
              "      <th></th>\n",
              "      <th>Argument ID</th>\n",
              "      <th>Conclusion</th>\n",
              "      <th>Stance</th>\n",
              "      <th>Premise</th>\n",
              "      <th>labels</th>\n",
              "    </tr>\n",
              "  </thead>\n",
              "  <tbody>\n",
              "    <tr>\n",
              "      <th>0</th>\n",
              "      <td>A01002</td>\n",
              "      <td>We should ban human cloning</td>\n",
              "      <td>in favor of</td>\n",
              "      <td>we should ban human cloning as it will only ca...</td>\n",
              "      <td>[0, 0, 0, 0, 0, 0, 0, 0, 0, 1, 0, 0, 0, 0, 0, ...</td>\n",
              "    </tr>\n",
              "    <tr>\n",
              "      <th>1</th>\n",
              "      <td>A01005</td>\n",
              "      <td>We should ban fast food</td>\n",
              "      <td>in favor of</td>\n",
              "      <td>fast food should be banned because it is reall...</td>\n",
              "      <td>[0, 0, 0, 0, 0, 0, 0, 0, 1, 0, 0, 0, 0, 0, 0, ...</td>\n",
              "    </tr>\n",
              "    <tr>\n",
              "      <th>2</th>\n",
              "      <td>A01006</td>\n",
              "      <td>We should end the use of economic sanctions</td>\n",
              "      <td>against</td>\n",
              "      <td>sometimes economic sanctions are the only thin...</td>\n",
              "      <td>[0, 0, 0, 0, 0, 1, 0, 0, 0, 1, 0, 0, 0, 0, 0, ...</td>\n",
              "    </tr>\n",
              "    <tr>\n",
              "      <th>3</th>\n",
              "      <td>A01007</td>\n",
              "      <td>We should abolish capital punishment</td>\n",
              "      <td>against</td>\n",
              "      <td>capital punishment is sometimes the only optio...</td>\n",
              "      <td>[0, 0, 0, 0, 0, 0, 0, 0, 0, 1, 0, 1, 0, 0, 0, ...</td>\n",
              "    </tr>\n",
              "    <tr>\n",
              "      <th>4</th>\n",
              "      <td>A01008</td>\n",
              "      <td>We should ban factory farming</td>\n",
              "      <td>against</td>\n",
              "      <td>factory farming allows for the production of c...</td>\n",
              "      <td>[0, 0, 0, 0, 0, 0, 0, 0, 1, 0, 0, 0, 0, 0, 1, ...</td>\n",
              "    </tr>\n",
              "    <tr>\n",
              "      <th>...</th>\n",
              "      <td>...</td>\n",
              "      <td>...</td>\n",
              "      <td>...</td>\n",
              "      <td>...</td>\n",
              "      <td>...</td>\n",
              "    </tr>\n",
              "    <tr>\n",
              "      <th>5388</th>\n",
              "      <td>E08016</td>\n",
              "      <td>The EU should integrate the armed forces of it...</td>\n",
              "      <td>in favor of</td>\n",
              "      <td>On the one hand, we have Russia killing countl...</td>\n",
              "      <td>[0, 0, 0, 0, 1, 1, 0, 0, 0, 1, 0, 0, 0, 0, 0, ...</td>\n",
              "    </tr>\n",
              "    <tr>\n",
              "      <th>5389</th>\n",
              "      <td>E08017</td>\n",
              "      <td>Food whose production has been subsidized with...</td>\n",
              "      <td>in favor of</td>\n",
              "      <td>The subsidies were originally intended to ensu...</td>\n",
              "      <td>[0, 0, 0, 0, 0, 0, 0, 0, 1, 0, 0, 1, 0, 0, 0, ...</td>\n",
              "    </tr>\n",
              "    <tr>\n",
              "      <th>5390</th>\n",
              "      <td>E08018</td>\n",
              "      <td>Food whose production has been subsidized with...</td>\n",
              "      <td>in favor of</td>\n",
              "      <td>These products come mainly from large enterpri...</td>\n",
              "      <td>[0, 0, 0, 0, 0, 0, 0, 0, 0, 0, 0, 0, 0, 0, 0, ...</td>\n",
              "    </tr>\n",
              "    <tr>\n",
              "      <th>5391</th>\n",
              "      <td>E08019</td>\n",
              "      <td>Food whose production has been subsidized with...</td>\n",
              "      <td>in favor of</td>\n",
              "      <td>Subsidies often make farmers in recipient coun...</td>\n",
              "      <td>[0, 0, 0, 0, 0, 0, 0, 0, 1, 1, 0, 1, 0, 0, 0, ...</td>\n",
              "    </tr>\n",
              "    <tr>\n",
              "      <th>5392</th>\n",
              "      <td>E08020</td>\n",
              "      <td>The EU should integrate the armed forces of it...</td>\n",
              "      <td>in favor of</td>\n",
              "      <td>The EU cannot endlessly lean on America or NAT...</td>\n",
              "      <td>[0, 1, 0, 0, 0, 1, 0, 0, 0, 1, 0, 0, 0, 0, 0, ...</td>\n",
              "    </tr>\n",
              "  </tbody>\n",
              "</table>\n",
              "<p>5393 rows × 5 columns</p>\n",
              "</div>\n",
              "      <button class=\"colab-df-convert\" onclick=\"convertToInteractive('df-638c1597-7a11-4364-9803-eaf2e1352f96')\"\n",
              "              title=\"Convert this dataframe to an interactive table.\"\n",
              "              style=\"display:none;\">\n",
              "        \n",
              "  <svg xmlns=\"http://www.w3.org/2000/svg\" height=\"24px\"viewBox=\"0 0 24 24\"\n",
              "       width=\"24px\">\n",
              "    <path d=\"M0 0h24v24H0V0z\" fill=\"none\"/>\n",
              "    <path d=\"M18.56 5.44l.94 2.06.94-2.06 2.06-.94-2.06-.94-.94-2.06-.94 2.06-2.06.94zm-11 1L8.5 8.5l.94-2.06 2.06-.94-2.06-.94L8.5 2.5l-.94 2.06-2.06.94zm10 10l.94 2.06.94-2.06 2.06-.94-2.06-.94-.94-2.06-.94 2.06-2.06.94z\"/><path d=\"M17.41 7.96l-1.37-1.37c-.4-.4-.92-.59-1.43-.59-.52 0-1.04.2-1.43.59L10.3 9.45l-7.72 7.72c-.78.78-.78 2.05 0 2.83L4 21.41c.39.39.9.59 1.41.59.51 0 1.02-.2 1.41-.59l7.78-7.78 2.81-2.81c.8-.78.8-2.07 0-2.86zM5.41 20L4 18.59l7.72-7.72 1.47 1.35L5.41 20z\"/>\n",
              "  </svg>\n",
              "      </button>\n",
              "      \n",
              "  <style>\n",
              "    .colab-df-container {\n",
              "      display:flex;\n",
              "      flex-wrap:wrap;\n",
              "      gap: 12px;\n",
              "    }\n",
              "\n",
              "    .colab-df-convert {\n",
              "      background-color: #E8F0FE;\n",
              "      border: none;\n",
              "      border-radius: 50%;\n",
              "      cursor: pointer;\n",
              "      display: none;\n",
              "      fill: #1967D2;\n",
              "      height: 32px;\n",
              "      padding: 0 0 0 0;\n",
              "      width: 32px;\n",
              "    }\n",
              "\n",
              "    .colab-df-convert:hover {\n",
              "      background-color: #E2EBFA;\n",
              "      box-shadow: 0px 1px 2px rgba(60, 64, 67, 0.3), 0px 1px 3px 1px rgba(60, 64, 67, 0.15);\n",
              "      fill: #174EA6;\n",
              "    }\n",
              "\n",
              "    [theme=dark] .colab-df-convert {\n",
              "      background-color: #3B4455;\n",
              "      fill: #D2E3FC;\n",
              "    }\n",
              "\n",
              "    [theme=dark] .colab-df-convert:hover {\n",
              "      background-color: #434B5C;\n",
              "      box-shadow: 0px 1px 3px 1px rgba(0, 0, 0, 0.15);\n",
              "      filter: drop-shadow(0px 1px 2px rgba(0, 0, 0, 0.3));\n",
              "      fill: #FFFFFF;\n",
              "    }\n",
              "  </style>\n",
              "\n",
              "      <script>\n",
              "        const buttonEl =\n",
              "          document.querySelector('#df-638c1597-7a11-4364-9803-eaf2e1352f96 button.colab-df-convert');\n",
              "        buttonEl.style.display =\n",
              "          google.colab.kernel.accessAllowed ? 'block' : 'none';\n",
              "\n",
              "        async function convertToInteractive(key) {\n",
              "          const element = document.querySelector('#df-638c1597-7a11-4364-9803-eaf2e1352f96');\n",
              "          const dataTable =\n",
              "            await google.colab.kernel.invokeFunction('convertToInteractive',\n",
              "                                                     [key], {});\n",
              "          if (!dataTable) return;\n",
              "\n",
              "          const docLinkHtml = 'Like what you see? Visit the ' +\n",
              "            '<a target=\"_blank\" href=https://colab.research.google.com/notebooks/data_table.ipynb>data table notebook</a>'\n",
              "            + ' to learn more about interactive tables.';\n",
              "          element.innerHTML = '';\n",
              "          dataTable['output_type'] = 'display_data';\n",
              "          await google.colab.output.renderOutput(dataTable, element);\n",
              "          const docLink = document.createElement('div');\n",
              "          docLink.innerHTML = docLinkHtml;\n",
              "          element.appendChild(docLink);\n",
              "        }\n",
              "      </script>\n",
              "    </div>\n",
              "  </div>\n",
              "  "
            ],
            "text/plain": [
              "     Argument ID                                         Conclusion  \\\n",
              "0         A01002                        We should ban human cloning   \n",
              "1         A01005                            We should ban fast food   \n",
              "2         A01006        We should end the use of economic sanctions   \n",
              "3         A01007               We should abolish capital punishment   \n",
              "4         A01008                      We should ban factory farming   \n",
              "...          ...                                                ...   \n",
              "5388      E08016  The EU should integrate the armed forces of it...   \n",
              "5389      E08017  Food whose production has been subsidized with...   \n",
              "5390      E08018  Food whose production has been subsidized with...   \n",
              "5391      E08019  Food whose production has been subsidized with...   \n",
              "5392      E08020  The EU should integrate the armed forces of it...   \n",
              "\n",
              "           Stance                                            Premise  \\\n",
              "0     in favor of  we should ban human cloning as it will only ca...   \n",
              "1     in favor of  fast food should be banned because it is reall...   \n",
              "2         against  sometimes economic sanctions are the only thin...   \n",
              "3         against  capital punishment is sometimes the only optio...   \n",
              "4         against  factory farming allows for the production of c...   \n",
              "...           ...                                                ...   \n",
              "5388  in favor of  On the one hand, we have Russia killing countl...   \n",
              "5389  in favor of  The subsidies were originally intended to ensu...   \n",
              "5390  in favor of  These products come mainly from large enterpri...   \n",
              "5391  in favor of  Subsidies often make farmers in recipient coun...   \n",
              "5392  in favor of  The EU cannot endlessly lean on America or NAT...   \n",
              "\n",
              "                                                 labels  \n",
              "0     [0, 0, 0, 0, 0, 0, 0, 0, 0, 1, 0, 0, 0, 0, 0, ...  \n",
              "1     [0, 0, 0, 0, 0, 0, 0, 0, 1, 0, 0, 0, 0, 0, 0, ...  \n",
              "2     [0, 0, 0, 0, 0, 1, 0, 0, 0, 1, 0, 0, 0, 0, 0, ...  \n",
              "3     [0, 0, 0, 0, 0, 0, 0, 0, 0, 1, 0, 1, 0, 0, 0, ...  \n",
              "4     [0, 0, 0, 0, 0, 0, 0, 0, 1, 0, 0, 0, 0, 0, 1, ...  \n",
              "...                                                 ...  \n",
              "5388  [0, 0, 0, 0, 1, 1, 0, 0, 0, 1, 0, 0, 0, 0, 0, ...  \n",
              "5389  [0, 0, 0, 0, 0, 0, 0, 0, 1, 0, 0, 1, 0, 0, 0, ...  \n",
              "5390  [0, 0, 0, 0, 0, 0, 0, 0, 0, 0, 0, 0, 0, 0, 0, ...  \n",
              "5391  [0, 0, 0, 0, 0, 0, 0, 0, 1, 1, 0, 1, 0, 0, 0, ...  \n",
              "5392  [0, 1, 0, 0, 0, 1, 0, 0, 0, 1, 0, 0, 0, 0, 0, ...  \n",
              "\n",
              "[5393 rows x 5 columns]"
            ]
          },
          "execution_count": 10,
          "metadata": {},
          "output_type": "execute_result"
        }
      ],
      "source": [
        "df_train"
      ]
    },
    {
      "cell_type": "code",
      "execution_count": 11,
      "metadata": {
        "colab": {
          "base_uri": "https://localhost:8080/",
          "height": 517
        },
        "id": "jqsbKorS8m4K",
        "outputId": "f3398a82-dd12-431c-f8ed-3582a1c14354"
      },
      "outputs": [
        {
          "data": {
            "text/html": [
              "\n",
              "  <div id=\"df-163f5332-321b-4f5d-806c-0f0d274096ba\">\n",
              "    <div class=\"colab-df-container\">\n",
              "      <div>\n",
              "<style scoped>\n",
              "    .dataframe tbody tr th:only-of-type {\n",
              "        vertical-align: middle;\n",
              "    }\n",
              "\n",
              "    .dataframe tbody tr th {\n",
              "        vertical-align: top;\n",
              "    }\n",
              "\n",
              "    .dataframe thead th {\n",
              "        text-align: right;\n",
              "    }\n",
              "</style>\n",
              "<table border=\"1\" class=\"dataframe\">\n",
              "  <thead>\n",
              "    <tr style=\"text-align: right;\">\n",
              "      <th></th>\n",
              "      <th>Argument ID</th>\n",
              "      <th>Self-direction: thought</th>\n",
              "      <th>Self-direction: action</th>\n",
              "      <th>Stimulation</th>\n",
              "      <th>Hedonism</th>\n",
              "      <th>Achievement</th>\n",
              "      <th>Power: dominance</th>\n",
              "      <th>Power: resources</th>\n",
              "      <th>Face</th>\n",
              "      <th>Security: personal</th>\n",
              "      <th>...</th>\n",
              "      <th>Tradition</th>\n",
              "      <th>Conformity: rules</th>\n",
              "      <th>Conformity: interpersonal</th>\n",
              "      <th>Humility</th>\n",
              "      <th>Benevolence: caring</th>\n",
              "      <th>Benevolence: dependability</th>\n",
              "      <th>Universalism: concern</th>\n",
              "      <th>Universalism: nature</th>\n",
              "      <th>Universalism: tolerance</th>\n",
              "      <th>Universalism: objectivity</th>\n",
              "    </tr>\n",
              "  </thead>\n",
              "  <tbody>\n",
              "    <tr>\n",
              "      <th>0</th>\n",
              "      <td>A01002</td>\n",
              "      <td>0</td>\n",
              "      <td>0</td>\n",
              "      <td>0</td>\n",
              "      <td>0</td>\n",
              "      <td>0</td>\n",
              "      <td>0</td>\n",
              "      <td>0</td>\n",
              "      <td>0</td>\n",
              "      <td>0</td>\n",
              "      <td>...</td>\n",
              "      <td>0</td>\n",
              "      <td>0</td>\n",
              "      <td>0</td>\n",
              "      <td>0</td>\n",
              "      <td>0</td>\n",
              "      <td>0</td>\n",
              "      <td>0</td>\n",
              "      <td>0</td>\n",
              "      <td>0</td>\n",
              "      <td>0</td>\n",
              "    </tr>\n",
              "    <tr>\n",
              "      <th>1</th>\n",
              "      <td>A01005</td>\n",
              "      <td>0</td>\n",
              "      <td>0</td>\n",
              "      <td>0</td>\n",
              "      <td>0</td>\n",
              "      <td>0</td>\n",
              "      <td>0</td>\n",
              "      <td>0</td>\n",
              "      <td>0</td>\n",
              "      <td>1</td>\n",
              "      <td>...</td>\n",
              "      <td>0</td>\n",
              "      <td>0</td>\n",
              "      <td>0</td>\n",
              "      <td>0</td>\n",
              "      <td>0</td>\n",
              "      <td>0</td>\n",
              "      <td>0</td>\n",
              "      <td>0</td>\n",
              "      <td>0</td>\n",
              "      <td>0</td>\n",
              "    </tr>\n",
              "    <tr>\n",
              "      <th>2</th>\n",
              "      <td>A01006</td>\n",
              "      <td>0</td>\n",
              "      <td>0</td>\n",
              "      <td>0</td>\n",
              "      <td>0</td>\n",
              "      <td>0</td>\n",
              "      <td>1</td>\n",
              "      <td>0</td>\n",
              "      <td>0</td>\n",
              "      <td>0</td>\n",
              "      <td>...</td>\n",
              "      <td>0</td>\n",
              "      <td>0</td>\n",
              "      <td>0</td>\n",
              "      <td>0</td>\n",
              "      <td>0</td>\n",
              "      <td>0</td>\n",
              "      <td>0</td>\n",
              "      <td>0</td>\n",
              "      <td>0</td>\n",
              "      <td>0</td>\n",
              "    </tr>\n",
              "    <tr>\n",
              "      <th>3</th>\n",
              "      <td>A01007</td>\n",
              "      <td>0</td>\n",
              "      <td>0</td>\n",
              "      <td>0</td>\n",
              "      <td>0</td>\n",
              "      <td>0</td>\n",
              "      <td>0</td>\n",
              "      <td>0</td>\n",
              "      <td>0</td>\n",
              "      <td>0</td>\n",
              "      <td>...</td>\n",
              "      <td>0</td>\n",
              "      <td>1</td>\n",
              "      <td>0</td>\n",
              "      <td>0</td>\n",
              "      <td>0</td>\n",
              "      <td>0</td>\n",
              "      <td>1</td>\n",
              "      <td>0</td>\n",
              "      <td>0</td>\n",
              "      <td>0</td>\n",
              "    </tr>\n",
              "    <tr>\n",
              "      <th>4</th>\n",
              "      <td>A01008</td>\n",
              "      <td>0</td>\n",
              "      <td>0</td>\n",
              "      <td>0</td>\n",
              "      <td>0</td>\n",
              "      <td>0</td>\n",
              "      <td>0</td>\n",
              "      <td>0</td>\n",
              "      <td>0</td>\n",
              "      <td>1</td>\n",
              "      <td>...</td>\n",
              "      <td>0</td>\n",
              "      <td>0</td>\n",
              "      <td>0</td>\n",
              "      <td>0</td>\n",
              "      <td>1</td>\n",
              "      <td>0</td>\n",
              "      <td>1</td>\n",
              "      <td>0</td>\n",
              "      <td>0</td>\n",
              "      <td>0</td>\n",
              "    </tr>\n",
              "    <tr>\n",
              "      <th>...</th>\n",
              "      <td>...</td>\n",
              "      <td>...</td>\n",
              "      <td>...</td>\n",
              "      <td>...</td>\n",
              "      <td>...</td>\n",
              "      <td>...</td>\n",
              "      <td>...</td>\n",
              "      <td>...</td>\n",
              "      <td>...</td>\n",
              "      <td>...</td>\n",
              "      <td>...</td>\n",
              "      <td>...</td>\n",
              "      <td>...</td>\n",
              "      <td>...</td>\n",
              "      <td>...</td>\n",
              "      <td>...</td>\n",
              "      <td>...</td>\n",
              "      <td>...</td>\n",
              "      <td>...</td>\n",
              "      <td>...</td>\n",
              "      <td>...</td>\n",
              "    </tr>\n",
              "    <tr>\n",
              "      <th>5388</th>\n",
              "      <td>E08016</td>\n",
              "      <td>0</td>\n",
              "      <td>0</td>\n",
              "      <td>0</td>\n",
              "      <td>0</td>\n",
              "      <td>1</td>\n",
              "      <td>1</td>\n",
              "      <td>0</td>\n",
              "      <td>0</td>\n",
              "      <td>0</td>\n",
              "      <td>...</td>\n",
              "      <td>0</td>\n",
              "      <td>0</td>\n",
              "      <td>0</td>\n",
              "      <td>0</td>\n",
              "      <td>0</td>\n",
              "      <td>1</td>\n",
              "      <td>0</td>\n",
              "      <td>0</td>\n",
              "      <td>0</td>\n",
              "      <td>0</td>\n",
              "    </tr>\n",
              "    <tr>\n",
              "      <th>5389</th>\n",
              "      <td>E08017</td>\n",
              "      <td>0</td>\n",
              "      <td>0</td>\n",
              "      <td>0</td>\n",
              "      <td>0</td>\n",
              "      <td>0</td>\n",
              "      <td>0</td>\n",
              "      <td>0</td>\n",
              "      <td>0</td>\n",
              "      <td>1</td>\n",
              "      <td>...</td>\n",
              "      <td>0</td>\n",
              "      <td>1</td>\n",
              "      <td>0</td>\n",
              "      <td>0</td>\n",
              "      <td>0</td>\n",
              "      <td>1</td>\n",
              "      <td>1</td>\n",
              "      <td>0</td>\n",
              "      <td>0</td>\n",
              "      <td>1</td>\n",
              "    </tr>\n",
              "    <tr>\n",
              "      <th>5390</th>\n",
              "      <td>E08018</td>\n",
              "      <td>0</td>\n",
              "      <td>0</td>\n",
              "      <td>0</td>\n",
              "      <td>0</td>\n",
              "      <td>0</td>\n",
              "      <td>0</td>\n",
              "      <td>0</td>\n",
              "      <td>0</td>\n",
              "      <td>0</td>\n",
              "      <td>...</td>\n",
              "      <td>0</td>\n",
              "      <td>0</td>\n",
              "      <td>0</td>\n",
              "      <td>0</td>\n",
              "      <td>0</td>\n",
              "      <td>1</td>\n",
              "      <td>0</td>\n",
              "      <td>1</td>\n",
              "      <td>0</td>\n",
              "      <td>0</td>\n",
              "    </tr>\n",
              "    <tr>\n",
              "      <th>5391</th>\n",
              "      <td>E08019</td>\n",
              "      <td>0</td>\n",
              "      <td>0</td>\n",
              "      <td>0</td>\n",
              "      <td>0</td>\n",
              "      <td>0</td>\n",
              "      <td>0</td>\n",
              "      <td>0</td>\n",
              "      <td>0</td>\n",
              "      <td>1</td>\n",
              "      <td>...</td>\n",
              "      <td>0</td>\n",
              "      <td>1</td>\n",
              "      <td>0</td>\n",
              "      <td>0</td>\n",
              "      <td>0</td>\n",
              "      <td>1</td>\n",
              "      <td>1</td>\n",
              "      <td>0</td>\n",
              "      <td>0</td>\n",
              "      <td>1</td>\n",
              "    </tr>\n",
              "    <tr>\n",
              "      <th>5392</th>\n",
              "      <td>E08020</td>\n",
              "      <td>0</td>\n",
              "      <td>1</td>\n",
              "      <td>0</td>\n",
              "      <td>0</td>\n",
              "      <td>0</td>\n",
              "      <td>1</td>\n",
              "      <td>0</td>\n",
              "      <td>0</td>\n",
              "      <td>0</td>\n",
              "      <td>...</td>\n",
              "      <td>0</td>\n",
              "      <td>0</td>\n",
              "      <td>0</td>\n",
              "      <td>0</td>\n",
              "      <td>0</td>\n",
              "      <td>1</td>\n",
              "      <td>0</td>\n",
              "      <td>0</td>\n",
              "      <td>0</td>\n",
              "      <td>0</td>\n",
              "    </tr>\n",
              "  </tbody>\n",
              "</table>\n",
              "<p>5393 rows × 21 columns</p>\n",
              "</div>\n",
              "      <button class=\"colab-df-convert\" onclick=\"convertToInteractive('df-163f5332-321b-4f5d-806c-0f0d274096ba')\"\n",
              "              title=\"Convert this dataframe to an interactive table.\"\n",
              "              style=\"display:none;\">\n",
              "        \n",
              "  <svg xmlns=\"http://www.w3.org/2000/svg\" height=\"24px\"viewBox=\"0 0 24 24\"\n",
              "       width=\"24px\">\n",
              "    <path d=\"M0 0h24v24H0V0z\" fill=\"none\"/>\n",
              "    <path d=\"M18.56 5.44l.94 2.06.94-2.06 2.06-.94-2.06-.94-.94-2.06-.94 2.06-2.06.94zm-11 1L8.5 8.5l.94-2.06 2.06-.94-2.06-.94L8.5 2.5l-.94 2.06-2.06.94zm10 10l.94 2.06.94-2.06 2.06-.94-2.06-.94-.94-2.06-.94 2.06-2.06.94z\"/><path d=\"M17.41 7.96l-1.37-1.37c-.4-.4-.92-.59-1.43-.59-.52 0-1.04.2-1.43.59L10.3 9.45l-7.72 7.72c-.78.78-.78 2.05 0 2.83L4 21.41c.39.39.9.59 1.41.59.51 0 1.02-.2 1.41-.59l7.78-7.78 2.81-2.81c.8-.78.8-2.07 0-2.86zM5.41 20L4 18.59l7.72-7.72 1.47 1.35L5.41 20z\"/>\n",
              "  </svg>\n",
              "      </button>\n",
              "      \n",
              "  <style>\n",
              "    .colab-df-container {\n",
              "      display:flex;\n",
              "      flex-wrap:wrap;\n",
              "      gap: 12px;\n",
              "    }\n",
              "\n",
              "    .colab-df-convert {\n",
              "      background-color: #E8F0FE;\n",
              "      border: none;\n",
              "      border-radius: 50%;\n",
              "      cursor: pointer;\n",
              "      display: none;\n",
              "      fill: #1967D2;\n",
              "      height: 32px;\n",
              "      padding: 0 0 0 0;\n",
              "      width: 32px;\n",
              "    }\n",
              "\n",
              "    .colab-df-convert:hover {\n",
              "      background-color: #E2EBFA;\n",
              "      box-shadow: 0px 1px 2px rgba(60, 64, 67, 0.3), 0px 1px 3px 1px rgba(60, 64, 67, 0.15);\n",
              "      fill: #174EA6;\n",
              "    }\n",
              "\n",
              "    [theme=dark] .colab-df-convert {\n",
              "      background-color: #3B4455;\n",
              "      fill: #D2E3FC;\n",
              "    }\n",
              "\n",
              "    [theme=dark] .colab-df-convert:hover {\n",
              "      background-color: #434B5C;\n",
              "      box-shadow: 0px 1px 3px 1px rgba(0, 0, 0, 0.15);\n",
              "      filter: drop-shadow(0px 1px 2px rgba(0, 0, 0, 0.3));\n",
              "      fill: #FFFFFF;\n",
              "    }\n",
              "  </style>\n",
              "\n",
              "      <script>\n",
              "        const buttonEl =\n",
              "          document.querySelector('#df-163f5332-321b-4f5d-806c-0f0d274096ba button.colab-df-convert');\n",
              "        buttonEl.style.display =\n",
              "          google.colab.kernel.accessAllowed ? 'block' : 'none';\n",
              "\n",
              "        async function convertToInteractive(key) {\n",
              "          const element = document.querySelector('#df-163f5332-321b-4f5d-806c-0f0d274096ba');\n",
              "          const dataTable =\n",
              "            await google.colab.kernel.invokeFunction('convertToInteractive',\n",
              "                                                     [key], {});\n",
              "          if (!dataTable) return;\n",
              "\n",
              "          const docLinkHtml = 'Like what you see? Visit the ' +\n",
              "            '<a target=\"_blank\" href=https://colab.research.google.com/notebooks/data_table.ipynb>data table notebook</a>'\n",
              "            + ' to learn more about interactive tables.';\n",
              "          element.innerHTML = '';\n",
              "          dataTable['output_type'] = 'display_data';\n",
              "          await google.colab.output.renderOutput(dataTable, element);\n",
              "          const docLink = document.createElement('div');\n",
              "          docLink.innerHTML = docLinkHtml;\n",
              "          element.appendChild(docLink);\n",
              "        }\n",
              "      </script>\n",
              "    </div>\n",
              "  </div>\n",
              "  "
            ],
            "text/plain": [
              "     Argument ID  Self-direction: thought  Self-direction: action  \\\n",
              "0         A01002                        0                       0   \n",
              "1         A01005                        0                       0   \n",
              "2         A01006                        0                       0   \n",
              "3         A01007                        0                       0   \n",
              "4         A01008                        0                       0   \n",
              "...          ...                      ...                     ...   \n",
              "5388      E08016                        0                       0   \n",
              "5389      E08017                        0                       0   \n",
              "5390      E08018                        0                       0   \n",
              "5391      E08019                        0                       0   \n",
              "5392      E08020                        0                       1   \n",
              "\n",
              "      Stimulation  Hedonism  Achievement  Power: dominance  Power: resources  \\\n",
              "0               0         0            0                 0                 0   \n",
              "1               0         0            0                 0                 0   \n",
              "2               0         0            0                 1                 0   \n",
              "3               0         0            0                 0                 0   \n",
              "4               0         0            0                 0                 0   \n",
              "...           ...       ...          ...               ...               ...   \n",
              "5388            0         0            1                 1                 0   \n",
              "5389            0         0            0                 0                 0   \n",
              "5390            0         0            0                 0                 0   \n",
              "5391            0         0            0                 0                 0   \n",
              "5392            0         0            0                 1                 0   \n",
              "\n",
              "      Face  Security: personal  ...  Tradition  Conformity: rules  \\\n",
              "0        0                   0  ...          0                  0   \n",
              "1        0                   1  ...          0                  0   \n",
              "2        0                   0  ...          0                  0   \n",
              "3        0                   0  ...          0                  1   \n",
              "4        0                   1  ...          0                  0   \n",
              "...    ...                 ...  ...        ...                ...   \n",
              "5388     0                   0  ...          0                  0   \n",
              "5389     0                   1  ...          0                  1   \n",
              "5390     0                   0  ...          0                  0   \n",
              "5391     0                   1  ...          0                  1   \n",
              "5392     0                   0  ...          0                  0   \n",
              "\n",
              "      Conformity: interpersonal  Humility  Benevolence: caring  \\\n",
              "0                             0         0                    0   \n",
              "1                             0         0                    0   \n",
              "2                             0         0                    0   \n",
              "3                             0         0                    0   \n",
              "4                             0         0                    1   \n",
              "...                         ...       ...                  ...   \n",
              "5388                          0         0                    0   \n",
              "5389                          0         0                    0   \n",
              "5390                          0         0                    0   \n",
              "5391                          0         0                    0   \n",
              "5392                          0         0                    0   \n",
              "\n",
              "      Benevolence: dependability  Universalism: concern  Universalism: nature  \\\n",
              "0                              0                      0                     0   \n",
              "1                              0                      0                     0   \n",
              "2                              0                      0                     0   \n",
              "3                              0                      1                     0   \n",
              "4                              0                      1                     0   \n",
              "...                          ...                    ...                   ...   \n",
              "5388                           1                      0                     0   \n",
              "5389                           1                      1                     0   \n",
              "5390                           1                      0                     1   \n",
              "5391                           1                      1                     0   \n",
              "5392                           1                      0                     0   \n",
              "\n",
              "      Universalism: tolerance  Universalism: objectivity  \n",
              "0                           0                          0  \n",
              "1                           0                          0  \n",
              "2                           0                          0  \n",
              "3                           0                          0  \n",
              "4                           0                          0  \n",
              "...                       ...                        ...  \n",
              "5388                        0                          0  \n",
              "5389                        0                          1  \n",
              "5390                        0                          0  \n",
              "5391                        0                          1  \n",
              "5392                        0                          0  \n",
              "\n",
              "[5393 rows x 21 columns]"
            ]
          },
          "execution_count": 11,
          "metadata": {},
          "output_type": "execute_result"
        }
      ],
      "source": [
        "train_labels"
      ]
    },
    {
      "cell_type": "code",
      "execution_count": 12,
      "metadata": {
        "id": "8zJz4i_h2OM_"
      },
      "outputs": [],
      "source": [
        "# shuffle the elements in the different splits\n",
        "df_train = shuffle(df_train, random_state=random_seed)\n",
        "df_val = shuffle(df_val, random_state=random_seed)\n",
        "df_test = shuffle(df_test, random_state=random_seed)"
      ]
    },
    {
      "cell_type": "markdown",
      "metadata": {
        "id": "Se6lJG8luUdL"
      },
      "source": [
        "Checking the shape of the different splits and printing the 20 human value categories"
      ]
    },
    {
      "cell_type": "code",
      "execution_count": 13,
      "metadata": {
        "colab": {
          "base_uri": "https://localhost:8080/"
        },
        "id": "kFFRf4VSnix1",
        "outputId": "376351cb-60fc-49e5-abe5-daa9cf57a423"
      },
      "outputs": [
        {
          "name": "stdout",
          "output_type": "stream",
          "text": [
            "Train data shape: (5393, 5)\n",
            "Validation data shape: (1896, 5)\n",
            "Test data shape: (1576, 5)\n"
          ]
        }
      ],
      "source": [
        "print(f'Train data shape: {df_train.shape}')\n",
        "print(f'Validation data shape: {df_val.shape}')\n",
        "print(f'Test data shape: {df_test.shape}')"
      ]
    },
    {
      "cell_type": "code",
      "execution_count": 14,
      "metadata": {
        "colab": {
          "base_uri": "https://localhost:8080/"
        },
        "id": "KM_vodPTVuNn",
        "outputId": "31b606e7-92d7-4001-8201-6f31a71c94e2"
      },
      "outputs": [
        {
          "name": "stdout",
          "output_type": "stream",
          "text": [
            "The 20 argument categories are:\n",
            "   Self-direction: thought\n",
            "    Self-direction: action\n",
            "               Stimulation\n",
            "                  Hedonism\n",
            "               Achievement\n",
            "          Power: dominance\n",
            "          Power: resources\n",
            "                      Face\n",
            "        Security: personal\n",
            "        Security: societal\n",
            "                 Tradition\n",
            "         Conformity: rules\n",
            " Conformity: interpersonal\n",
            "                  Humility\n",
            "       Benevolence: caring\n",
            "Benevolence: dependability\n",
            "     Universalism: concern\n",
            "      Universalism: nature\n",
            "   Universalism: tolerance\n",
            " Universalism: objectivity\n"
          ]
        }
      ],
      "source": [
        "print('The 20 argument categories are:')\n",
        "print(train_labels.columns[1:].to_series().to_string(index=False))"
      ]
    },
    {
      "cell_type": "code",
      "execution_count": 15,
      "metadata": {
        "id": "6bUFDENsoG1m"
      },
      "outputs": [],
      "source": [
        "label_names = ['Self-direction: thought', 'Self-direction: action', 'Stimulation', 'Hedonism', 'Achievement',\n",
        "          'Power: dominance', 'Power: resources', 'Face', 'Security: personal', 'Security: societal', 'Tradition',\n",
        "          'Conformity: rules', 'Conformity: interpersonal', 'Humility', 'Benevolence: caring', 'Benevolence: dependability',\n",
        "          'Universalism: concern', 'Universalism: nature', 'Universalism: tolerance', 'Universalism: objectivity']"
      ]
    },
    {
      "cell_type": "code",
      "execution_count": 16,
      "metadata": {
        "id": "FuiTKZW1otwJ"
      },
      "outputs": [],
      "source": [
        "def decode_labels(label_encoding):\n",
        "  \"\"\"\n",
        "  Returns the decoded labels list given their binary encoding:\n",
        "  being a multi-label problem, there can be more than one label.\n",
        "\n",
        "  :param label_encoding: labels binary encoding\n",
        "\n",
        "  :return decoded_labels: classes of the given one hot encoded\n",
        "  labels\n",
        "  \"\"\"\n",
        "  labels_idx = np.where(label_encoding != 0)[0]\n",
        "\n",
        "  decoded_labels = [label_names[idx] for idx in labels_idx]\n",
        "\n",
        "  return decoded_labels"
      ]
    },
    {
      "cell_type": "markdown",
      "metadata": {
        "id": "lAICHQxh_LSY"
      },
      "source": [
        "We print a random example of a premise, stance, conclusion, encoded and decoded labels:"
      ]
    },
    {
      "cell_type": "code",
      "execution_count": null,
      "metadata": {
        "colab": {
          "base_uri": "https://localhost:8080/"
        },
        "id": "E1H5Vxpyrwb_",
        "outputId": "e5916d25-37e3-4dc2-d6d5-494ad1f05157"
      },
      "outputs": [
        {
          "name": "stdout",
          "output_type": "stream",
          "text": [
            "Premise: nuclear weapons help keep the peace in uncertain times\n",
            "Stance: against\n",
            "Conclusion: We should fight for the abolition of nuclear weapons\n",
            "Encoded labels: [0 0 0 0 0 0 0 0 0 1 0 0 0 0 0 0 1 0 0 0]\n",
            "Decoded labels: ['Security: societal', 'Universalism: concern']\n"
          ]
        }
      ],
      "source": [
        "ex_idx = 5\n",
        "\n",
        "print('Premise:', df_train['Premise'][ex_idx])\n",
        "print('Stance:', df_train['Stance'][ex_idx])\n",
        "print('Conclusion:', df_train['Conclusion'][ex_idx])\n",
        "print('Encoded labels:', (df_train['labels'][ex_idx]))\n",
        "print('Decoded labels:', decode_labels(df_train['labels'][ex_idx]))"
      ]
    },
    {
      "cell_type": "markdown",
      "metadata": {
        "id": "xjdIVpsq_xX_"
      },
      "source": [
        "### Exploratory Data Analysis"
      ]
    },
    {
      "cell_type": "markdown",
      "metadata": {
        "id": "MeJBxtnizCk3"
      },
      "source": [
        "Some exploratory data analysis is performed. First of all, using the Pandas ```describe```method, some statistics are shown about the assigned labels for each instance in the training set, such as the min, max, mean value and the 99th percentile."
      ]
    },
    {
      "cell_type": "code",
      "execution_count": 18,
      "metadata": {
        "colab": {
          "base_uri": "https://localhost:8080/"
        },
        "id": "6PWh8NaL0Rqq",
        "outputId": "8a75b1f7-89f8-4a38-b68c-f630156e75d2"
      },
      "outputs": [
        {
          "data": {
            "text/plain": [
              "count    5393.000000\n",
              "mean        3.406267\n",
              "std         1.441160\n",
              "min         0.000000\n",
              "50%         3.000000\n",
              "99%         7.000000\n",
              "max         9.000000\n",
              "Name: labels, dtype: float64"
            ]
          },
          "execution_count": 18,
          "metadata": {},
          "output_type": "execute_result"
        }
      ],
      "source": [
        "# count the number of assigned labels for each instance\n",
        "labels_count = df_train['labels'].apply(lambda x: np.sum(x))\n",
        "labels_count.describe(percentiles=[.99])"
      ]
    },
    {
      "cell_type": "markdown",
      "metadata": {
        "id": "7iwL_wSnfWzS"
      },
      "source": [
        "As it can be seen, the minimum value of assigned labels is 0, the maximum value of assigned labels is 9 and the mean value of assigned labels is 3, with the 99th percentile being at 7. Now we will plot the number of assigned labels and the human value categories distributions for the training set."
      ]
    },
    {
      "cell_type": "code",
      "execution_count": null,
      "metadata": {
        "colab": {
          "base_uri": "https://localhost:8080/",
          "height": 602
        },
        "id": "kdpyai97zmWX",
        "outputId": "58a2d26b-c2a7-4749-fcd4-836b49f46b4a"
      },
      "outputs": [
        {
          "data": {
            "image/png": "[encoded data removed]",
            "text/plain": [
              "<Figure size 800x600 with 1 Axes>"
            ]
          },
          "metadata": {},
          "output_type": "display_data"
        }
      ],
      "source": [
        "fig = plt.figure(figsize=(8, 6))\n",
        "fig.suptitle('Number of assigned labels distribution (training set)', fontsize=12)\n",
        "ax = sns.countplot(x=labels_count, color=\"steelblue\")\n",
        "\n",
        "plt.xlabel('Number of assigned labels')\n",
        "plt.ylabel('Frequency')\n",
        "\n",
        "# Add numeric value count on top of each bar\n",
        "for p in ax.patches:\n",
        "    ax.annotate(format(p.get_height(), '.0f'), (p.get_x() + p.get_width() / 2., p.get_height()),\n",
        "                ha = 'center', va = 'center', xytext = (0, 10), textcoords = 'offset points', fontsize=10)\n",
        "\n",
        "plt.grid(False)\n",
        "plt.show()\n"
      ]
    },
    {
      "cell_type": "code",
      "execution_count": null,
      "metadata": {
        "colab": {
          "base_uri": "https://localhost:8080/",
          "height": 610
        },
        "id": "0wPBPJu-xIkF",
        "outputId": "b16524b0-6260-4816-e0d2-44db195edfe1"
      },
      "outputs": [
        {
          "data": {
            "image/png": "[encoded data removed]",
            "text/plain": [
              "<Figure size 900x600 with 1 Axes>"
            ]
          },
          "metadata": {},
          "output_type": "display_data"
        }
      ],
      "source": [
        "# decode labels and count frequencies\n",
        "label_counts = {}\n",
        "for row in df_train['labels']:\n",
        "    decoded_labels = decode_labels(row)\n",
        "    for label in decoded_labels:\n",
        "        label_counts[label] = label_counts.get(label, 0) + 1\n",
        "\n",
        "# sort labels by number of values\n",
        "sorted_labels = sorted(label_counts.items(), key=lambda x: x[1], reverse=True)\n",
        "\n",
        "sns.set(style=\"darkgrid\")\n",
        "fig, ax = plt.subplots(figsize=(9, 6))\n",
        "fig.suptitle('Categories distribution (training set)')\n",
        "sns.barplot(x=[count for label, count in sorted_labels], y=[label for label, count in sorted_labels], color=\"steelblue\", ax=ax)\n",
        "ax.bar_label(ax.containers[0], fontsize=10)\n",
        "plt.xlabel('Number of Arguments')\n",
        "plt.ylabel('Argument Value')\n",
        "\n",
        "plt.grid(False)\n",
        "plt.show()"
      ]
    },
    {
      "cell_type": "markdown",
      "metadata": {
        "id": "VLvdY_nth3Cb"
      },
      "source": [
        "The plot shows that the distribution of the different class categories is clearly unbalanced. The training set contains\n",
        "some samples which have no labels assigned and\n",
        "therefore would not be meaningful for the task:\n",
        "for this reason, they have been removed, together\n",
        "with the samples with more than 7 assigned labels,\n",
        "since they represent a negligible set. Afterwards, the duplicates are removed."
      ]
    },
    {
      "cell_type": "code",
      "execution_count": 19,
      "metadata": {
        "colab": {
          "base_uri": "https://localhost:8080/"
        },
        "id": "J5IW-yagHQu1",
        "outputId": "5814d4b5-89ae-4373-ac9b-e8cc55d5683d"
      },
      "outputs": [
        {
          "name": "stdout",
          "output_type": "stream",
          "text": [
            "The new training set shape is: (5274, 5)\n"
          ]
        }
      ],
      "source": [
        "# finding rows with either zero or more than 7 labels\n",
        "zero_or_many_label_idx = np.where((labels_count == 0) | (labels_count > 7))\n",
        "zero_or_many_label_rows = df_train.iloc[zero_or_many_label_idx]\n",
        "\n",
        "df_train.drop(zero_or_many_label_rows.index, inplace=True)\n",
        "\n",
        "# dropping duplicates\n",
        "df_train.drop_duplicates(subset=['Conclusion', 'Premise'],inplace = True)\n",
        "print('The new training set shape is:', df_train.shape)"
      ]
    },
    {
      "cell_type": "markdown",
      "metadata": {
        "id": "vvD8Db9qPJcb"
      },
      "source": [
        "### **Text pre-processing**"
      ]
    },
    {
      "cell_type": "markdown",
      "metadata": {
        "id": "gT3kdUpKacb9"
      },
      "source": [
        "The text pre-processing process for the SVM model consists in taking the original arguments text and applying the following steps:\n",
        "1. converting to lowercase\n",
        "2. removing contractions using ```contractions```library\n",
        "3. removing punctuations\n",
        "4. lemmatizing the sentence using ```spaCy```'s lemmatizer\n",
        "5. removing stopwords provided by ```NLTK```\n"
      ]
    },
    {
      "cell_type": "code",
      "execution_count": 53,
      "metadata": {
        "colab": {
          "base_uri": "https://localhost:8080/"
        },
        "id": "w0g7URTHwEeY",
        "outputId": "eb9cf899-671a-4415-d31f-05c9769b3106"
      },
      "outputs": [
        {
          "name": "stderr",
          "output_type": "stream",
          "text": [
            "[nltk_data] Downloading package stopwords to /root/nltk_data...\n",
            "[nltk_data]   Unzipping corpora/stopwords.zip.\n",
            "[nltk_data] Downloading package wordnet to /root/nltk_data...\n",
            "[nltk_data] Downloading package omw-1.4 to /root/nltk_data...\n"
          ]
        },
        {
          "data": {
            "text/plain": [
              "True"
            ]
          },
          "execution_count": 53,
          "metadata": {},
          "output_type": "execute_result"
        }
      ],
      "source": [
        "nltk.download('stopwords')\n",
        "nltk.download('wordnet')\n",
        "nltk.download('omw-1.4')"
      ]
    },
    {
      "cell_type": "code",
      "execution_count": 54,
      "metadata": {
        "id": "_2lD30i9bix1"
      },
      "outputs": [],
      "source": [
        "lemmatizer = spacy.load('en_core_web_sm')\n",
        "STOP_WORDS = set(stopwords.words('english'))"
      ]
    },
    {
      "cell_type": "code",
      "execution_count": 55,
      "metadata": {
        "id": "umAFrEN1GPG8"
      },
      "outputs": [],
      "source": [
        "def preprocess_text(text):\n",
        "    \"\"\"\n",
        "    Given a text string, preprocesses the text by converting to lowercase, removing\n",
        "    contractions, punctuations and stopwards, and lemmatizing the sentence\n",
        "\n",
        "    :param text: Original text string\n",
        "\n",
        "    :return: Preprocessed text string\n",
        "    \"\"\"\n",
        "    # convert to lowercase\n",
        "    text = text.lower()\n",
        "    # remove contractions\n",
        "    expanded_words = [contractions.fix(word) for word in text.split()]\n",
        "    text = ' '.join(expanded_words)\n",
        "    # remove punctuations\n",
        "    text = text.translate(str.maketrans('', '', string.punctuation))\n",
        "    # lemmatize\n",
        "    lmt = lemmatizer(text)\n",
        "    text = \" \".join([token.lemma_ for token in lmt])\n",
        "    # remove stopwords\n",
        "    text = \" \".join([word for word in text.split() if word not in STOP_WORDS])\n",
        "\n",
        "    # pre-processed text\n",
        "    return text"
      ]
    },
    {
      "cell_type": "code",
      "execution_count": 56,
      "metadata": {
        "id": "uaHZ0xC0xEFe"
      },
      "outputs": [],
      "source": [
        "def preprocess_dataframe(df):\n",
        "    '''\n",
        "    Preprocesses the dataframe by applying the previous text pre-processing steps\n",
        "    on the premise and conclusion\"\n",
        "\n",
        "    :param df: dataframe to preprocess\n",
        "\n",
        "    :return: preprocessed dataframe\n",
        "    '''\n",
        "    df['Conclusion'] = df['Conclusion'].apply(preprocess_text)\n",
        "    df['Premise'] = df['Premise'].apply(preprocess_text)\n",
        "\n",
        "    return df"
      ]
    },
    {
      "cell_type": "code",
      "execution_count": 57,
      "metadata": {
        "id": "gU1ae7GaRce2"
      },
      "outputs": [],
      "source": [
        "# pre-processing sets\n",
        "df_train_prepr = preprocess_dataframe(df_train)\n",
        "df_val_prepr = preprocess_dataframe(df_val)\n",
        "df_test_prepr = preprocess_dataframe(df_test)\n",
        "\n",
        "df_train_prepr.drop_duplicates(subset=['Conclusion', 'Premise'], inplace = True)\n",
        "df_train_prepr.reset_index(inplace=True, drop=True)"
      ]
    },
    {
      "cell_type": "code",
      "execution_count": 58,
      "metadata": {
        "colab": {
          "base_uri": "https://localhost:8080/",
          "height": 419
        },
        "id": "YPgoPWC5MX1j",
        "outputId": "cbf1183d-3197-4f2e-cf0f-a2ae7b522216"
      },
      "outputs": [
        {
          "data": {
            "text/html": [
              "\n",
              "  <div id=\"df-b5d9dace-f903-44b0-8d20-62024a7e5e2c\">\n",
              "    <div class=\"colab-df-container\">\n",
              "      <div>\n",
              "<style scoped>\n",
              "    .dataframe tbody tr th:only-of-type {\n",
              "        vertical-align: middle;\n",
              "    }\n",
              "\n",
              "    .dataframe tbody tr th {\n",
              "        vertical-align: top;\n",
              "    }\n",
              "\n",
              "    .dataframe thead th {\n",
              "        text-align: right;\n",
              "    }\n",
              "</style>\n",
              "<table border=\"1\" class=\"dataframe\">\n",
              "  <thead>\n",
              "    <tr style=\"text-align: right;\">\n",
              "      <th></th>\n",
              "      <th>Argument ID</th>\n",
              "      <th>Conclusion</th>\n",
              "      <th>Stance</th>\n",
              "      <th>Premise</th>\n",
              "      <th>labels</th>\n",
              "    </tr>\n",
              "  </thead>\n",
              "  <tbody>\n",
              "    <tr>\n",
              "      <th>0</th>\n",
              "      <td>A24197</td>\n",
              "      <td>adopt zerotolerance policy school</td>\n",
              "      <td>in favor of</td>\n",
              "      <td>security child teacher esential</td>\n",
              "      <td>[0, 0, 0, 0, 0, 0, 0, 0, 1, 1, 0, 1, 0, 0, 0, ...</td>\n",
              "    </tr>\n",
              "    <tr>\n",
              "      <th>1</th>\n",
              "      <td>A19059</td>\n",
              "      <td>adopt multiparty system</td>\n",
              "      <td>in favor of</td>\n",
              "      <td>multiparty system provide many new source view...</td>\n",
              "      <td>[1, 0, 0, 0, 0, 0, 0, 0, 0, 0, 0, 0, 0, 0, 1, ...</td>\n",
              "    </tr>\n",
              "    <tr>\n",
              "      <th>2</th>\n",
              "      <td>A27387</td>\n",
              "      <td>abolish zoo</td>\n",
              "      <td>in favor of</td>\n",
              "      <td>zoo often exhibit poor standard animal welfare...</td>\n",
              "      <td>[0, 0, 0, 0, 0, 0, 0, 0, 0, 0, 0, 1, 0, 0, 0, ...</td>\n",
              "    </tr>\n",
              "    <tr>\n",
              "      <th>3</th>\n",
              "      <td>A30259</td>\n",
              "      <td>abolish intellectual property right</td>\n",
              "      <td>against</td>\n",
              "      <td>multiple reason right intellectual property ab...</td>\n",
              "      <td>[0, 1, 1, 0, 1, 0, 0, 1, 0, 0, 0, 0, 0, 0, 0, ...</td>\n",
              "    </tr>\n",
              "    <tr>\n",
              "      <th>4</th>\n",
              "      <td>A30032</td>\n",
              "      <td>subsidize student loan</td>\n",
              "      <td>against</td>\n",
              "      <td>student loan subsidize people choose go colleg...</td>\n",
              "      <td>[0, 1, 0, 0, 0, 0, 0, 0, 0, 0, 0, 1, 0, 0, 0, ...</td>\n",
              "    </tr>\n",
              "    <tr>\n",
              "      <th>...</th>\n",
              "      <td>...</td>\n",
              "      <td>...</td>\n",
              "      <td>...</td>\n",
              "      <td>...</td>\n",
              "      <td>...</td>\n",
              "    </tr>\n",
              "    <tr>\n",
              "      <th>5257</th>\n",
              "      <td>A12249</td>\n",
              "      <td>ban private military company</td>\n",
              "      <td>against</td>\n",
              "      <td>private military company provide additional so...</td>\n",
              "      <td>[0, 0, 0, 0, 0, 1, 0, 0, 0, 1, 0, 0, 0, 0, 0, ...</td>\n",
              "    </tr>\n",
              "    <tr>\n",
              "      <th>5258</th>\n",
              "      <td>A25184</td>\n",
              "      <td>adopt austerity regime</td>\n",
              "      <td>in favor of</td>\n",
              "      <td>would perhaps help country debt crisis</td>\n",
              "      <td>[0, 0, 0, 0, 0, 0, 1, 0, 1, 1, 0, 0, 0, 0, 1, ...</td>\n",
              "    </tr>\n",
              "    <tr>\n",
              "      <th>5259</th>\n",
              "      <td>A28145</td>\n",
              "      <td>ban missionary work</td>\n",
              "      <td>in favor of</td>\n",
              "      <td>missionary work preach false information unfor...</td>\n",
              "      <td>[0, 0, 0, 0, 0, 0, 0, 0, 0, 0, 0, 0, 0, 0, 1, ...</td>\n",
              "    </tr>\n",
              "    <tr>\n",
              "      <th>5260</th>\n",
              "      <td>E08018</td>\n",
              "      <td>food whose production subsidize eu fund allow ...</td>\n",
              "      <td>in favor of</td>\n",
              "      <td>product come mainly large enterprise necessari...</td>\n",
              "      <td>[0, 0, 0, 0, 0, 0, 0, 0, 0, 0, 0, 0, 0, 0, 0, ...</td>\n",
              "    </tr>\n",
              "    <tr>\n",
              "      <th>5261</th>\n",
              "      <td>A18267</td>\n",
              "      <td>adopt libertarianism</td>\n",
              "      <td>in favor of</td>\n",
              "      <td>low taxis freedom big government would result ...</td>\n",
              "      <td>[1, 1, 0, 0, 1, 0, 1, 0, 0, 1, 0, 0, 0, 0, 0, ...</td>\n",
              "    </tr>\n",
              "  </tbody>\n",
              "</table>\n",
              "<p>5262 rows × 5 columns</p>\n",
              "</div>\n",
              "      <button class=\"colab-df-convert\" onclick=\"convertToInteractive('df-b5d9dace-f903-44b0-8d20-62024a7e5e2c')\"\n",
              "              title=\"Convert this dataframe to an interactive table.\"\n",
              "              style=\"display:none;\">\n",
              "        \n",
              "  <svg xmlns=\"http://www.w3.org/2000/svg\" height=\"24px\"viewBox=\"0 0 24 24\"\n",
              "       width=\"24px\">\n",
              "    <path d=\"M0 0h24v24H0V0z\" fill=\"none\"/>\n",
              "    <path d=\"M18.56 5.44l.94 2.06.94-2.06 2.06-.94-2.06-.94-.94-2.06-.94 2.06-2.06.94zm-11 1L8.5 8.5l.94-2.06 2.06-.94-2.06-.94L8.5 2.5l-.94 2.06-2.06.94zm10 10l.94 2.06.94-2.06 2.06-.94-2.06-.94-.94-2.06-.94 2.06-2.06.94z\"/><path d=\"M17.41 7.96l-1.37-1.37c-.4-.4-.92-.59-1.43-.59-.52 0-1.04.2-1.43.59L10.3 9.45l-7.72 7.72c-.78.78-.78 2.05 0 2.83L4 21.41c.39.39.9.59 1.41.59.51 0 1.02-.2 1.41-.59l7.78-7.78 2.81-2.81c.8-.78.8-2.07 0-2.86zM5.41 20L4 18.59l7.72-7.72 1.47 1.35L5.41 20z\"/>\n",
              "  </svg>\n",
              "      </button>\n",
              "      \n",
              "  <style>\n",
              "    .colab-df-container {\n",
              "      display:flex;\n",
              "      flex-wrap:wrap;\n",
              "      gap: 12px;\n",
              "    }\n",
              "\n",
              "    .colab-df-convert {\n",
              "      background-color: #E8F0FE;\n",
              "      border: none;\n",
              "      border-radius: 50%;\n",
              "      cursor: pointer;\n",
              "      display: none;\n",
              "      fill: #1967D2;\n",
              "      height: 32px;\n",
              "      padding: 0 0 0 0;\n",
              "      width: 32px;\n",
              "    }\n",
              "\n",
              "    .colab-df-convert:hover {\n",
              "      background-color: #E2EBFA;\n",
              "      box-shadow: 0px 1px 2px rgba(60, 64, 67, 0.3), 0px 1px 3px 1px rgba(60, 64, 67, 0.15);\n",
              "      fill: #174EA6;\n",
              "    }\n",
              "\n",
              "    [theme=dark] .colab-df-convert {\n",
              "      background-color: #3B4455;\n",
              "      fill: #D2E3FC;\n",
              "    }\n",
              "\n",
              "    [theme=dark] .colab-df-convert:hover {\n",
              "      background-color: #434B5C;\n",
              "      box-shadow: 0px 1px 3px 1px rgba(0, 0, 0, 0.15);\n",
              "      filter: drop-shadow(0px 1px 2px rgba(0, 0, 0, 0.3));\n",
              "      fill: #FFFFFF;\n",
              "    }\n",
              "  </style>\n",
              "\n",
              "      <script>\n",
              "        const buttonEl =\n",
              "          document.querySelector('#df-b5d9dace-f903-44b0-8d20-62024a7e5e2c button.colab-df-convert');\n",
              "        buttonEl.style.display =\n",
              "          google.colab.kernel.accessAllowed ? 'block' : 'none';\n",
              "\n",
              "        async function convertToInteractive(key) {\n",
              "          const element = document.querySelector('#df-b5d9dace-f903-44b0-8d20-62024a7e5e2c');\n",
              "          const dataTable =\n",
              "            await google.colab.kernel.invokeFunction('convertToInteractive',\n",
              "                                                     [key], {});\n",
              "          if (!dataTable) return;\n",
              "\n",
              "          const docLinkHtml = 'Like what you see? Visit the ' +\n",
              "            '<a target=\"_blank\" href=https://colab.research.google.com/notebooks/data_table.ipynb>data table notebook</a>'\n",
              "            + ' to learn more about interactive tables.';\n",
              "          element.innerHTML = '';\n",
              "          dataTable['output_type'] = 'display_data';\n",
              "          await google.colab.output.renderOutput(dataTable, element);\n",
              "          const docLink = document.createElement('div');\n",
              "          docLink.innerHTML = docLinkHtml;\n",
              "          element.appendChild(docLink);\n",
              "        }\n",
              "      </script>\n",
              "    </div>\n",
              "  </div>\n",
              "  "
            ],
            "text/plain": [
              "     Argument ID                                         Conclusion  \\\n",
              "0         A24197                  adopt zerotolerance policy school   \n",
              "1         A19059                            adopt multiparty system   \n",
              "2         A27387                                        abolish zoo   \n",
              "3         A30259                abolish intellectual property right   \n",
              "4         A30032                             subsidize student loan   \n",
              "...          ...                                                ...   \n",
              "5257      A12249                       ban private military company   \n",
              "5258      A25184                             adopt austerity regime   \n",
              "5259      A28145                                ban missionary work   \n",
              "5260      E08018  food whose production subsidize eu fund allow ...   \n",
              "5261      A18267                               adopt libertarianism   \n",
              "\n",
              "           Stance                                            Premise  \\\n",
              "0     in favor of                    security child teacher esential   \n",
              "1     in favor of  multiparty system provide many new source view...   \n",
              "2     in favor of  zoo often exhibit poor standard animal welfare...   \n",
              "3         against  multiple reason right intellectual property ab...   \n",
              "4         against  student loan subsidize people choose go colleg...   \n",
              "...           ...                                                ...   \n",
              "5257      against  private military company provide additional so...   \n",
              "5258  in favor of             would perhaps help country debt crisis   \n",
              "5259  in favor of  missionary work preach false information unfor...   \n",
              "5260  in favor of  product come mainly large enterprise necessari...   \n",
              "5261  in favor of  low taxis freedom big government would result ...   \n",
              "\n",
              "                                                 labels  \n",
              "0     [0, 0, 0, 0, 0, 0, 0, 0, 1, 1, 0, 1, 0, 0, 0, ...  \n",
              "1     [1, 0, 0, 0, 0, 0, 0, 0, 0, 0, 0, 0, 0, 0, 1, ...  \n",
              "2     [0, 0, 0, 0, 0, 0, 0, 0, 0, 0, 0, 1, 0, 0, 0, ...  \n",
              "3     [0, 1, 1, 0, 1, 0, 0, 1, 0, 0, 0, 0, 0, 0, 0, ...  \n",
              "4     [0, 1, 0, 0, 0, 0, 0, 0, 0, 0, 0, 1, 0, 0, 0, ...  \n",
              "...                                                 ...  \n",
              "5257  [0, 0, 0, 0, 0, 1, 0, 0, 0, 1, 0, 0, 0, 0, 0, ...  \n",
              "5258  [0, 0, 0, 0, 0, 0, 1, 0, 1, 1, 0, 0, 0, 0, 1, ...  \n",
              "5259  [0, 0, 0, 0, 0, 0, 0, 0, 0, 0, 0, 0, 0, 0, 1, ...  \n",
              "5260  [0, 0, 0, 0, 0, 0, 0, 0, 0, 0, 0, 0, 0, 0, 0, ...  \n",
              "5261  [1, 1, 0, 0, 1, 0, 1, 0, 0, 1, 0, 0, 0, 0, 0, ...  \n",
              "\n",
              "[5262 rows x 5 columns]"
            ]
          },
          "execution_count": 58,
          "metadata": {},
          "output_type": "execute_result"
        }
      ],
      "source": [
        "df_train_prepr"
      ]
    },
    {
      "cell_type": "markdown",
      "metadata": {
        "id": "cT9XnbHbQo5f"
      },
      "source": [
        "### **Model 1: SVM**"
      ]
    },
    {
      "cell_type": "markdown",
      "metadata": {
        "id": "ti-meSX_xP2l"
      },
      "source": [
        "The first model is **Support Vector Machine (SVM)** adapted for multi-label classification. First, a function is defined to transform the labels by binarizing them with ```MultiLabelBinarizer```."
      ]
    },
    {
      "cell_type": "code",
      "execution_count": 59,
      "metadata": {
        "id": "hHyYn9AXQqA9"
      },
      "outputs": [],
      "source": [
        "def transform_labels(train_labels, val_labels, test_labels):\n",
        "    \"\"\"\n",
        "    Converts the labels for training, validation and test sets\n",
        "    binarizing them with a MultiLabelBinarizer\n",
        "\n",
        "    :param train_labels: training set labels\n",
        "    :param val_labels: validation set labels\n",
        "    :param test_labels: test set labels\n",
        "\n",
        "    :return: binarized version of the labels for each set\n",
        "    \"\"\"\n",
        "    def binarize(labels):\n",
        "      # for each category produces a list of the instances labeled with that category\n",
        "      return labels.apply(lambda x: [i for i, val in enumerate(x) if val])\n",
        "\n",
        "    train_labels = binarize(train_labels)\n",
        "    val_labels = binarize(val_labels)\n",
        "    test_labels = binarize(test_labels)\n",
        "\n",
        "    mlb = MultiLabelBinarizer()\n",
        "    mlb.fit(train_labels)\n",
        "\n",
        "    mlb_train = mlb.transform(train_labels)\n",
        "    mlb_val = mlb.transform(val_labels)\n",
        "    mlb_test = mlb.transform(test_labels)\n",
        "\n",
        "    return mlb_train, mlb_val, mlb_test"
      ]
    },
    {
      "cell_type": "code",
      "execution_count": 60,
      "metadata": {
        "id": "6dKLsrsYQuuM"
      },
      "outputs": [],
      "source": [
        "# prepare data and labels to be given to the model\n",
        "X_train = df_train_prepr['Premise'] + ' ' + df_train_prepr['Stance'] + ' ' + df_train_prepr['Conclusion']\n",
        "X_val = df_val_prepr['Premise'] + ' ' + df_val_prepr['Stance'] + ' ' + df_val_prepr['Conclusion']\n",
        "X_test = df_test_prepr['Premise'] + ' ' + df_test_prepr['Stance'] + ' ' + df_test_prepr['Conclusion']\n",
        "\n",
        "y_train, y_val, y_test = transform_labels(df_train_prepr['labels'], df_val_prepr['labels'], df_test_prepr['labels'])"
      ]
    },
    {
      "cell_type": "markdown",
      "metadata": {
        "id": "VGy6p0KdFihQ"
      },
      "source": [
        "A pipeline for SVM composed by two steps is created and trained. In the first step of the pipeline ```TfidfVectorizer``` is used, which converts the text input data into a numerical representation through a matrix of TF-IDF (Term Frequency-Inverse Document Frequency) features, which are then fed into the SVM model wrapped by ```MultiOutputClassifier```, which allows to handle multi-label classification."
      ]
    },
    {
      "cell_type": "code",
      "execution_count": 61,
      "metadata": {
        "colab": {
          "base_uri": "https://localhost:8080/"
        },
        "id": "6wmJJN8cCEwz",
        "outputId": "dde388db-43f9-4659-ca65-4a55d0a8d7fc"
      },
      "outputs": [
        {
          "name": "stderr",
          "output_type": "stream",
          "text": [
            "/usr/local/lib/python3.10/dist-packages/sklearn/utils/_param_validation.py:558: FutureWarning: Passing an int for a boolean parameter is deprecated in version 1.2 and won't be supported anymore in version 1.4.\n",
            "  warnings.warn(\n"
          ]
        }
      ],
      "source": [
        "# create and train a pipeline with TfidfVectorizer and SVM\n",
        "svm = Pipeline([\n",
        "    ('tfidf', TfidfVectorizer(\n",
        "        min_df=0.1,\n",
        "        ngram_range=(1,1),\n",
        "        use_idf=1,\n",
        "        smooth_idf=1,\n",
        "        sublinear_tf=1)),\n",
        "\n",
        "    ('clf', MultiOutputClassifier(\n",
        "        SVC(random_state=random_seed,\n",
        "        kernel='rbf',\n",
        "        gamma=0.01,\n",
        "        C=1.0,\n",
        "        class_weight='balanced',\n",
        "        max_iter = 10000)\n",
        "    ))\n",
        "])\n",
        "\n",
        "svm.fit(X_train, y_train)\n",
        "\n",
        "# make predictions on the test set\n",
        "y_pred = svm.predict(X_test)"
      ]
    },
    {
      "cell_type": "markdown",
      "metadata": {
        "id": "1Ee6wT47w3-l"
      },
      "source": [
        "Printing and storing the classification report metrics of SVM"
      ]
    },
    {
      "cell_type": "code",
      "execution_count": 62,
      "metadata": {
        "colab": {
          "base_uri": "https://localhost:8080/"
        },
        "id": "ZcM64AWoRnaM",
        "outputId": "321f3b47-e8e5-46b4-bdd1-0b00ac796c0a"
      },
      "outputs": [
        {
          "name": "stdout",
          "output_type": "stream",
          "text": [
            "                            precision    recall  f1-score   support\n",
            "\n",
            "   Self-direction: thought       0.07      0.45      0.13       143\n",
            "    Self-direction: action       0.32      0.63      0.42       391\n",
            "               Stimulation       0.08      0.39      0.13        77\n",
            "                  Hedonism       0.03      0.42      0.06        26\n",
            "               Achievement       0.26      0.95      0.41       412\n",
            "          Power: dominance       0.06      0.79      0.12       108\n",
            "          Power: resources       0.07      0.45      0.12       105\n",
            "                      Face       0.05      0.44      0.10        96\n",
            "        Security: personal       0.35      0.99      0.51       537\n",
            "        Security: societal       0.29      0.81      0.43       397\n",
            "                 Tradition       0.13      0.55      0.21       168\n",
            "         Conformity: rules       0.21      0.45      0.29       287\n",
            " Conformity: interpersonal       0.05      0.81      0.09        53\n",
            "                  Humility       0.03      0.26      0.05        74\n",
            "       Benevolence: caring       0.24      0.66      0.35       336\n",
            "Benevolence: dependability       0.10      0.55      0.17       163\n",
            "     Universalism: concern       0.42      0.96      0.58       588\n",
            "      Universalism: nature       0.14      0.19      0.16       144\n",
            "   Universalism: tolerance       0.20      0.26      0.23       195\n",
            " Universalism: objectivity       0.28      0.71      0.40       471\n",
            "\n",
            "                 micro avg       0.20      0.70      0.31      4771\n",
            "                 macro avg       0.17      0.58      0.25      4771\n",
            "              weighted avg       0.25      0.70      0.36      4771\n",
            "               samples avg       0.20      0.71      0.30      4771\n",
            "\n"
          ]
        }
      ],
      "source": [
        "svm_metrics = classification_report(y_test, y_pred, output_dict = True, zero_division = 1)\n",
        "print(classification_report(y_test, y_pred, target_names = label_names, zero_division = 1))"
      ]
    },
    {
      "cell_type": "markdown",
      "metadata": {
        "id": "E4_d3bPR4qxi"
      },
      "source": [
        "Plotting the multi-label classification confusion matrix for each human value category"
      ]
    },
    {
      "cell_type": "code",
      "execution_count": 63,
      "metadata": {
        "id": "cFpQSpIYicEo"
      },
      "outputs": [],
      "source": [
        "cm = multilabel_confusion_matrix(y_test, y_pred)"
      ]
    },
    {
      "cell_type": "code",
      "execution_count": 64,
      "metadata": {
        "id": "EQHl9rdpr1SN"
      },
      "outputs": [],
      "source": [
        "def plot_multilabel_cm(cm, label_names):\n",
        "  '''Plot the multi-label confusion matrixes\n",
        "\n",
        "  :param cm: multi-label confusion matrix\n",
        "  :param label_names: list of label names\n",
        "\n",
        "  '''\n",
        "  n_rows = 5\n",
        "  n_cols = 4\n",
        "  f, axes = plt.subplots(n_rows, n_cols, figsize=(15, 10))\n",
        "  axes = axes.ravel()\n",
        "  for i in range(len(label_names)):\n",
        "      disp = ConfusionMatrixDisplay(np.array(cm[i]))\n",
        "      disp.plot(ax=axes[i], cmap='Blues')\n",
        "      disp.ax_.set_title(f'{label_names[i]}', fontsize=11)\n",
        "      axes[i].grid(False)\n",
        "      if i<len(label_names)-n_cols:\n",
        "          disp.ax_.set_xlabel('')\n",
        "      if i%n_cols!=0:\n",
        "          disp.ax_.set_ylabel('')\n",
        "      disp.im_.colorbar.remove()\n",
        "\n",
        "  plt.subplots_adjust(wspace=0.20, hspace=0.7)\n",
        "  f.colorbar(disp.im_, ax=axes)\n",
        "  plt.show()"
      ]
    },
    {
      "cell_type": "code",
      "execution_count": null,
      "metadata": {
        "colab": {
          "base_uri": "https://localhost:8080/",
          "height": 879
        },
        "id": "GbZ_-SmBVNE6",
        "outputId": "8ec40cf1-ec09-4660-965c-fe8c99fb68c3"
      },
      "outputs": [
        {
          "data": {
            "image/png": "[encoded data removed]",
            "text/plain": [
              "<Figure size 1500x1000 with 21 Axes>"
            ]
          },
          "metadata": {},
          "output_type": "display_data"
        }
      ],
      "source": [
        "plot_multilabel_cm(cm, label_names)"
      ]
    },
    {
      "cell_type": "markdown",
      "metadata": {
        "id": "_Ie0RAcZYQdU"
      },
      "source": [
        "### **Transformer-based models**\n",
        "\n",
        "The second approach involves the use of three transformer-based approaches:\n",
        "- BERT\n",
        "- XLNet\n",
        "- RoBERTa\n",
        "\n",
        "We now will define some functions to load the pre-trained models and their corresponding tokenizers, tokenize batches of data and datasets and finally to define the metrics used to evaluate the models. This is done using HuggingFace's ``transformers`` library, with PyTorch as back-end."
      ]
    },
    {
      "cell_type": "markdown",
      "metadata": {
        "id": "CnkQxVGPNzKn"
      },
      "source": [
        "### Load the models and tokenizers"
      ]
    },
    {
      "cell_type": "markdown",
      "metadata": {
        "id": "fX2dx2UNaZzG"
      },
      "source": [
        "We load the pre-trained model through the ```from_pretrained``` function of the ```AutoModelForSequenceClassification``` model class, and we set the parameter ```problem_type``` to ```multi_label_classification``` to adapt the problem to multi-label classification, as this will make sure the appropriate loss function is used (namely ```BCEWithLogitsLoss```). We also make sure the output layer has ```len(label_names)``` output neurons (20 human value categories), and we set the ```id2label``` and ```label2id``` mappings."
      ]
    },
    {
      "cell_type": "code",
      "execution_count": 20,
      "metadata": {
        "id": "HdhsnyfpNjZ3"
      },
      "outputs": [],
      "source": [
        "def load_model_tokenizer(model_name):\n",
        "  \"\"\"\n",
        "  Loads and configures a pretrained model via HuggingFace transformers\n",
        "  library with the corresponding tokenizer\n",
        "\n",
        "  :param model_name: name of the model to load\n",
        "\n",
        "  :return:\n",
        "    - model: pretrained  transformer model\n",
        "    - tokenizer: model's tokenizer\n",
        "\n",
        "  \"\"\"\n",
        "  id2label = {}\n",
        "  label2id = {}\n",
        "\n",
        "  for idx, label in enumerate(label_names):\n",
        "      id2label[idx] = label\n",
        "      label2id[label] = idx\n",
        "\n",
        "  # load pre-trained model, adapted for multi-label classification\n",
        "  model = AutoModelForSequenceClassification.from_pretrained(model_name,\n",
        "                                                             problem_type=\"multi_label_classification\",\n",
        "                                                             output_hidden_states=False,\n",
        "                                                             num_labels=len(label_names),\n",
        "                                                             id2label=id2label,\n",
        "                                                             label2id=label2id).to(device)\n",
        "  # load tokenizer\n",
        "  tokenizer = AutoTokenizer.from_pretrained(model_name)\n",
        "\n",
        "  model.config.early_stopping = True\n",
        "  model.config.cls_token_id = tokenizer.cls_token_id\n",
        "  model.config.eos_token_id = tokenizer.sep_token_id\n",
        "  model.config.pad_token_id = tokenizer.pad_token_id\n",
        "\n",
        "  return model, tokenizer"
      ]
    },
    {
      "cell_type": "markdown",
      "metadata": {
        "id": "tpKJOgEXN-wi"
      },
      "source": [
        "### Dataset Tokenization"
      ]
    },
    {
      "cell_type": "code",
      "execution_count": 21,
      "metadata": {
        "id": "m6GBoS2yNmtG"
      },
      "outputs": [],
      "source": [
        "def process_data_to_model_inputs(batch, tokenizer):\n",
        "  '''\n",
        "  Tokenizes a batch of data\n",
        "\n",
        "  :param batch: batch of data to tokenize\n",
        "  :param tokenizer: model tokenizer\n",
        "\n",
        "  :return batch: batch of tokenized data\n",
        "  '''\n",
        "  input = []\n",
        "  for conclusion, stance, premise in zip(batch[\"Conclusion\"], batch[\"Stance\"], batch[\"Premise\"]):\n",
        "    input.append(premise + ' ' + tokenizer.sep_token + ' ' + stance + ' ' +\n",
        "                  tokenizer.sep_token + ' ' + conclusion)\n",
        "\n",
        "  inputs = tokenizer(input, padding=\"max_length\", truncation=\"longest_first\", max_length=128)\n",
        "\n",
        "  batch[\"input_ids\"] = inputs.input_ids\n",
        "  batch[\"attention_mask\"] = inputs.attention_mask\n",
        "\n",
        "  return batch"
      ]
    },
    {
      "cell_type": "code",
      "execution_count": 22,
      "metadata": {
        "id": "wYt7cjDJOCPQ"
      },
      "outputs": [],
      "source": [
        "def tokenize_dataset(df, tokenizer):\n",
        "  '''\n",
        "  Tokenizes an entire dataset\n",
        "\n",
        "  :param df: the dataframe to be tokenized\n",
        "  :param tokenizer: model tokenizer\n",
        "\n",
        "  :return df_tok: tokenized dataset\n",
        "  '''\n",
        "  df_tok = datasets.Dataset.from_pandas(df)\n",
        "  col_names = [f for f in df_tok.features if f != 'labels']\n",
        "\n",
        "  # dataframe tokenization by map function\n",
        "  df_tok = df_tok.map(\n",
        "        process_data_to_model_inputs,\n",
        "        fn_kwargs={\"tokenizer\": tokenizer},\n",
        "        batched=True,\n",
        "        batch_size=BATCH_SIZE,\n",
        "        remove_columns=col_names\n",
        "      )\n",
        "\n",
        "  # converts the labels to a sequence of float32 values\n",
        "  df_tok = df_tok.cast_column(\"labels\", Sequence(Value(\"float32\")))\n",
        "  df_tok.set_format(type=\"torch\", device = device, columns=[\"input_ids\", \"attention_mask\", \"labels\"])\n",
        "\n",
        "  return df_tok"
      ]
    },
    {
      "cell_type": "markdown",
      "metadata": {
        "id": "-TA-yWgKOGeK"
      },
      "source": [
        "### Metric functions"
      ]
    },
    {
      "cell_type": "markdown",
      "metadata": {
        "id": "2KEehctn2p4y"
      },
      "source": [
        "As for model training evaluation, we define the metrics used and adapted for the multi-label classification task, which is macro F1-score. In particular, we use the Pytorch sigmoid function with a default threshold set to 0.5, meaning that all values above are assigned a value of 1."
      ]
    },
    {
      "cell_type": "code",
      "execution_count": 23,
      "metadata": {
        "id": "LdCMOpWQOJyv"
      },
      "outputs": [],
      "source": [
        "def multi_label_metrics(predictions, labels, threshold = 0.5):\n",
        "    '''\n",
        "    Computes F1 score for multi-label tasks.\n",
        "\n",
        "    :param predictions: predicted logits from the model\n",
        "    :param labels: ground-truth values\n",
        "    :param threshold: threshold applied to convert from probability to binary array\n",
        "\n",
        "    :return a dictionary containing the computed F1 score\n",
        "    '''\n",
        "    # apply sigmoid on predictions which are of shape (batch_size, num_labels)\n",
        "    # to convert from logit to probability\n",
        "    sigmoid = torch.nn.Sigmoid()\n",
        "    probs = sigmoid(torch.Tensor(predictions))\n",
        "    # use threshold to turn them into integer predictions (binary array)\n",
        "    y_pred = np.zeros(probs.shape)\n",
        "    y_pred[np.where(probs >= threshold)] = 1\n",
        "    # finally, compute metrics\n",
        "    y_true = labels\n",
        "    f1_macro_average = f1_score(y_true=y_true, y_pred=y_pred, average='macro')\n",
        "    # return as dictionary\n",
        "    metrics = {'macro f1': f1_macro_average}\n",
        "    return metrics\n",
        "\n",
        "def compute_metrics(p: EvalPrediction):\n",
        "    '''\n",
        "    Computes the F1 score value for a batch of predictions\n",
        "\n",
        "    :param EvalPrediction: the predicted labels\n",
        "\n",
        "    :return a dictionary containing the computed F1 score for the entire batch\n",
        "    '''\n",
        "    preds = p.predictions[0] if isinstance(p.predictions,tuple) else p.predictions\n",
        "    result = multi_label_metrics(predictions=preds,labels=p.label_ids)\n",
        "    return result"
      ]
    },
    {
      "cell_type": "markdown",
      "metadata": {
        "id": "lij9kKc3OTsf"
      },
      "source": [
        "### Evaluation functions"
      ]
    },
    {
      "cell_type": "markdown",
      "metadata": {
        "id": "SXd8vAuM5V24"
      },
      "source": [
        "Some utility functions for the models evaluation are defined, in particular for generating predictions, computing evaluation metrics (using sklearn ```classification_report```) and for computing the best thresholds for each category which maximises each F1-score."
      ]
    },
    {
      "cell_type": "code",
      "execution_count": 24,
      "metadata": {
        "id": "vMU6tZIxgATp"
      },
      "outputs": [],
      "source": [
        "def generate_batch_predictions(batch, model, tokenizer, threshold):\n",
        "  '''\n",
        "  Generates classification predictions for a batch of inputs\n",
        "\n",
        "  :param batch: batch of input data\n",
        "  :param model: model that will be used for predictions\n",
        "  :param tokenizer: model tokenizer\n",
        "  :param threshold: threshold applied to convert from probability to binary array\n",
        "\n",
        "  :return batch: batch extended with the predicted labels as binary array\n",
        "                    and the corresponding probability as float\n",
        "  '''\n",
        "  outputs = model(batch['input_ids'], attention_mask=batch['attention_mask']).logits.tolist()\n",
        "\n",
        "  sigmoid = torch.nn.Sigmoid()\n",
        "  probs = sigmoid(torch.Tensor(outputs))\n",
        "  pred_labels = np.where(np.array(probs) > threshold, 1, 0)\n",
        "\n",
        "  batch[\"predictions\"] = pred_labels\n",
        "  batch[\"probabilities\"] = probs\n",
        "\n",
        "  return batch"
      ]
    },
    {
      "cell_type": "code",
      "execution_count": 25,
      "metadata": {
        "id": "nZAFKRxDOVIk"
      },
      "outputs": [],
      "source": [
        "def compute_evaluation_results(model, tokenizer, df, threshold = 0.5):\n",
        "    '''\n",
        "    :param model: model used for predictions\n",
        "    :param tokenizer: model tokenizer\n",
        "    :param df: dataframe used for evaluation\n",
        "    :param threshold: threshold applied to convert from probability to binary array\n",
        "                      (default set to 0.5)\n",
        "\n",
        "    :return\n",
        "      - model_result: Dataset object containing the predictions as binary array and corresponding probabilities\n",
        "    '''\n",
        "    model_result = df.map(generate_batch_predictions,\n",
        "                             fn_kwargs={\"model\": model, \"tokenizer\": tokenizer, \"threshold\" : threshold},\n",
        "                             batched=True,\n",
        "                             batch_size=BATCH_SIZE,\n",
        "                             remove_columns=['input_ids', 'attention_mask'])\n",
        "\n",
        "    return model_result"
      ]
    },
    {
      "cell_type": "code",
      "execution_count": 26,
      "metadata": {
        "id": "QzNpaC6lIL7T"
      },
      "outputs": [],
      "source": [
        "def compute_best_thresholds(model, tokenizer):\n",
        "    '''\n",
        "    Computes the best threshold for each category to maximize each F1-score\n",
        "    for a given model\n",
        "\n",
        "    :param model: model used for predictions\n",
        "    :param tokenizer: model tokenizer\n",
        "\n",
        "    :return best_thresholds: dictionary of best thresholds\n",
        "    '''\n",
        "    # tokenize the train+val dataframe and compute evaluation metrics\n",
        "    df_concat = pd.concat([df_train, df_val], axis = 0)\n",
        "    df_concat_tok = tokenize_dataset(df_concat, tokenizer)\n",
        "    df_concat_results = compute_evaluation_results(model, tokenizer, df_concat_tok)\n",
        "\n",
        "    probabilities = df_concat_results['probabilities'].cpu().data.numpy()\n",
        "    labels = df_concat_results['labels'].cpu().data.numpy()\n",
        "\n",
        "    best_thresholds = {}\n",
        "    for label_idx, label_name in enumerate(label_names):\n",
        "        label_probs = probabilities[:, label_idx]\n",
        "        label_true = labels[:, label_idx]\n",
        "\n",
        "        # range of threshold values\n",
        "        thresholds = np.linspace(0.01, 0.5, 50)\n",
        "        best_f1_score = 0.0   # best f1 score found\n",
        "        best_threshold = 0.5  # initial threshold value\n",
        "\n",
        "        for threshold in thresholds:\n",
        "            # convert probabilities to binary labels based on the threshold\n",
        "            label_pred = np.where(label_probs > threshold, 1, 0)\n",
        "            # compute F1 score for the current threshold\n",
        "            f1 = f1_score(label_true, label_pred, zero_division=1)\n",
        "            if f1 > best_f1_score:\n",
        "                best_f1_score = f1\n",
        "                best_threshold = threshold\n",
        "\n",
        "        best_thresholds[label_name] = best_threshold\n",
        "\n",
        "    best_thresholds = {k: round(v, 2) for k, v in best_thresholds.items()}\n",
        "\n",
        "    for label_name, threshold in best_thresholds.items():\n",
        "      print(f\"Best threshold found for category {label_name} = {threshold}\")\n",
        "    print()\n",
        "\n",
        "    return best_thresholds"
      ]
    },
    {
      "cell_type": "code",
      "execution_count": 27,
      "metadata": {
        "id": "_eT4HDAdsUj0"
      },
      "outputs": [],
      "source": [
        "def compute_model_report(model, tokenizer, df_output, best_thresholds):\n",
        "    '''\n",
        "    Computes and prints the model's classification report using the best thresholds\n",
        "\n",
        "    :param model: model used for predictions\n",
        "    :param tokenizer: model tokenizer\n",
        "    :param df_output: computed df with predictions for evaluation\n",
        "    :param best_thresholds: dictionary containing the best thresholds for each category\n",
        "\n",
        "    :return model_results: classification report for a given model\n",
        "    '''\n",
        "\n",
        "    probabilities = df_output['probabilities'].cpu().data.numpy()\n",
        "    labels = df_output['labels'].cpu().data.numpy()\n",
        "\n",
        "    # apply the best thresholds obtained for each category through a binary array\n",
        "    probabilities = np.where(probabilities >= np.array(list(best_thresholds.values())), 1, 0)\n",
        "\n",
        "    print(sklearn.metrics.classification_report(labels, probabilities, target_names=label_names))\n",
        "    model_results = sklearn.metrics.classification_report(labels, probabilities, output_dict=True, zero_division=1)\n",
        "\n",
        "    return model_results"
      ]
    },
    {
      "cell_type": "code",
      "execution_count": 28,
      "metadata": {
        "id": "1jdp4uYCdUFS"
      },
      "outputs": [],
      "source": [
        "num_train_epochs = 8"
      ]
    },
    {
      "cell_type": "markdown",
      "metadata": {
        "id": "xOUgoVWX98uW"
      },
      "source": [
        "### **Model 2: BERT-base-uncased**"
      ]
    },
    {
      "cell_type": "markdown",
      "metadata": {
        "id": "wmlZ3NsA1SRl"
      },
      "source": [
        "Parameters used for `bert-base-uncased`:\n",
        "- Batch size: 32\n",
        "- Learning rate: 5e-5\n",
        "- Optimizer: AdamW\n",
        "- Weight Dcay: 0.01\n",
        "- Number of epochs: 8"
      ]
    },
    {
      "cell_type": "code",
      "execution_count": 33,
      "metadata": {
        "id": "d9LNrx7H8OF3"
      },
      "outputs": [],
      "source": [
        "BATCH_SIZE = 32\n",
        "model_name = 'bert-base-uncased'"
      ]
    },
    {
      "cell_type": "code",
      "execution_count": 34,
      "metadata": {
        "colab": {
          "base_uri": "https://localhost:8080/",
          "height": 605,
          "referenced_widgets": [
            "eea2340fa9504e6cabbd2999b29f6238",
            "0db82c7bbaf14d56b2aa6e5b5b51217a",
            "952579e6574a46e6a7cb82cbfb016ccb",
            "fca8fafddf5d43f2a89c209859c443e8",
            "046f484f6bac46fb95676e4f29ca05a2",
            "bf92cfa033624b2f9ad3d53387990d4d",
            "4daafb4857a04386a4a3a964b6c7d857",
            "c1038fa268914d9782f7ddfdf049d359",
            "63b41cb0c4e44887b5719d8450f9799d",
            "2ae2e52e0d2d4f33995b92b629346d75",
            "6471e012abc94198b537765b3734d5b4",
            "c0d49174d56d4556b5697a19d4590c6e",
            "bc72a28e35a84b47af6c5c789d872ace",
            "f9f8d3f817034d9f91175cc281b10101",
            "10e8efba8f794ad7857bf1acf55a352b",
            "8486a37b77c54eb6820b4de965083968",
            "d02f22049ef145d686d06ed762360915",
            "8014289585ca4278af944be4cad402ad",
            "5e143b7b363c4c979d084b885fbff57e",
            "5a03d83a382949a8b54f63d9cd7c1dd7",
            "8b9b9073d06e44e5b440bb183eeacaec",
            "b008bd762a6b4d41a5ea7ee07135c0b0",
            "cf58afd017c14a50b325953c90cef555",
            "1f10201ea60948ac8827f4b7abb0c72e",
            "df371359025f4925a941a5197ebbfbc4",
            "b89a16ffb2d14e07b0dd7faf533b8f33",
            "17ff9db4ec2e4727a8d8f4402e5832a8",
            "cf0b714e3fca4385a1cbb83a31885aad",
            "358e1f0473444d2b92eaa922e4f40951",
            "bc2b36fa1526447991bcffed63e83617",
            "bd5af48daeb747a5aa693f0110cc5f63",
            "302a60b8e695488db9e2cb44e8872a47",
            "b5a70f5288c0494aa695d5f9c7cf583d",
            "36c7942a2bba4c4ea6775d16d64c3b96",
            "5e5447d6d1744efaaffabb7f76cf11b4",
            "8780815b1a354092aa9c9ff5e3556cc7",
            "80f4abf68a464f448fbc648f191dec3e",
            "d7c3479a806c48b9a50304e0efbec74b",
            "9066c6d6037b4cc699348cb79b0d2af7",
            "b32c669a1dab48889ed7961c289ff1c7",
            "04f0f7a9d305491b8428ba4f7b4bfbf6",
            "d9055cd72a124f3dab21967c16ca869f",
            "1340404c0f3a4f61bb8b5813842a5df3",
            "d98b2b2cee55432fa7c7c7b4ab497858",
            "4ccf83a101e14fd695670bd24e7a9592",
            "493638f2d45d4d16ac4f649e69ccbd3a",
            "969ce3d476554e01896231a442aaa588",
            "e8e437e78e0041dbb6bc5861b114cc43",
            "0bb077250f5a44a6851c3061ad33a193",
            "6d17510cace84493af370aa465ae2118",
            "73599fb191ae44559169b4aec276fb5e",
            "aedf3b665fbf484c815c747dba7f3e58",
            "4060c225743945edbd9dd2ca5155ef49",
            "b93b080b24704ac884a194c9516104ed",
            "68e47490f9084ebb9ee4fa7d2eba895c",
            "3479bc27b7884f35a31ffe562cd09377",
            "ab2be982f57041d4813a38577a9fd6d5",
            "8116fcf6ebdd4e72ac7d072db6083795",
            "943ad827b18142f1bfebd8091cc41679",
            "5df11d5b4fcb470f8b7328da48cd8639",
            "353c472e62304116833e77ada863ebe9",
            "340ee9fae2db4ed9850a2c741b69ccea",
            "3a3634b1f41e4571818bb342a5c38626",
            "a41f6a088a6b473c9bd7fb77a204ce40",
            "4568280045db4dfd8571d95bb058b2b1",
            "dc63ba0f1e5f4267876f7a96b7af5989",
            "7a62854bd0ad4c66903968a0171d2b6c",
            "5ef5d48713724130a591b3bc9393561f",
            "4453e8e2456c471781f12d239b212a80",
            "925957d0142c4db7b8dc0607150a0023",
            "3f8d18ae69d64dcf88253b515f7ef31f",
            "9f998e77a60c401a84ad69e47ef82b1d",
            "764266af290c403eb9f4130aecc56c89",
            "a261bf7001fa41e3bcadfd49da93acb3",
            "d55bfc2c1fa94a8bb6e6ed9f0ce943a2",
            "a6a6e514847c4316b0796b03a17ea3fb",
            "13cc56e6a89a40c0a6a09ce7bfc2357e",
            "00c21399c49c4cbbb1fc9df0de8485e5",
            "ecc0d75dd9ac4b5f80aeb5beeed6df42",
            "1552ba88f7034a11bd0574382ae3da07",
            "6f3bbf0c54e541f5aac22cc4365f3e4a",
            "b2f9112729a04b76bed815ea65225b8d",
            "c4ea83b2cec8448a9e946b007c92a34d",
            "13430073fd7b440bb75497825af120a1",
            "d3876d7f4b8f4d22b00192ec2170cfe9",
            "3d1413019c4a450b8ebacf7b38b65111",
            "572ae14de6ea422d997fb89a9acf0a34",
            "3f851da2e33246fc92d52c0aaf1c56b7",
            "dea37f3df92f4057a3e08868a9561c2b",
            "035441ee8b314d1a9b63012f4db8ac10",
            "f9732d846ee9461dbbf82532e1ba4d4d",
            "1789951141f64086a8a6effbd2355ebb",
            "5f41fca981af4bfda4225826cd4f29b2",
            "b7cd6524e8494769bf44abd41d6ff546",
            "c9725994dac54189b8aa18a33a8cc348",
            "99970fc3c4c04329b640a651a4eae943",
            "c4e71f367fa4496e86ba3f36287be0b3",
            "961505cfd6e943219a114cade742a558",
            "08396cac3443418f96716f8036a3a8cb"
          ]
        },
        "id": "JNPP6YRcCWKg",
        "outputId": "ca4d30d7-e875-45fa-ff6b-99c89a49f99b"
      },
      "outputs": [
        {
          "data": {
            "application/vnd.jupyter.widget-view+json": {
              "model_id": "eea2340fa9504e6cabbd2999b29f6238",
              "version_major": 2,
              "version_minor": 0
            },
            "text/plain": [
              "Downloading (…)lve/main/config.json:   0%|          | 0.00/570 [00:00<?, ?B/s]"
            ]
          },
          "metadata": {},
          "output_type": "display_data"
        },
        {
          "data": {
            "application/vnd.jupyter.widget-view+json": {
              "model_id": "c0d49174d56d4556b5697a19d4590c6e",
              "version_major": 2,
              "version_minor": 0
            },
            "text/plain": [
              "Downloading pytorch_model.bin:   0%|          | 0.00/440M [00:00<?, ?B/s]"
            ]
          },
          "metadata": {},
          "output_type": "display_data"
        },
        {
          "name": "stderr",
          "output_type": "stream",
          "text": [
            "Some weights of the model checkpoint at bert-base-uncased were not used when initializing BertForSequenceClassification: ['cls.predictions.decoder.weight', 'cls.predictions.bias', 'cls.seq_relationship.weight', 'cls.predictions.transform.dense.weight', 'cls.seq_relationship.bias', 'cls.predictions.transform.dense.bias', 'cls.predictions.transform.LayerNorm.bias', 'cls.predictions.transform.LayerNorm.weight']\n",
            "- This IS expected if you are initializing BertForSequenceClassification from the checkpoint of a model trained on another task or with another architecture (e.g. initializing a BertForSequenceClassification model from a BertForPreTraining model).\n",
            "- This IS NOT expected if you are initializing BertForSequenceClassification from the checkpoint of a model that you expect to be exactly identical (initializing a BertForSequenceClassification model from a BertForSequenceClassification model).\n",
            "Some weights of BertForSequenceClassification were not initialized from the model checkpoint at bert-base-uncased and are newly initialized: ['classifier.weight', 'classifier.bias']\n",
            "You should probably TRAIN this model on a down-stream task to be able to use it for predictions and inference.\n"
          ]
        },
        {
          "data": {
            "application/vnd.jupyter.widget-view+json": {
              "model_id": "cf58afd017c14a50b325953c90cef555",
              "version_major": 2,
              "version_minor": 0
            },
            "text/plain": [
              "Downloading (…)okenizer_config.json:   0%|          | 0.00/28.0 [00:00<?, ?B/s]"
            ]
          },
          "metadata": {},
          "output_type": "display_data"
        },
        {
          "data": {
            "application/vnd.jupyter.widget-view+json": {
              "model_id": "36c7942a2bba4c4ea6775d16d64c3b96",
              "version_major": 2,
              "version_minor": 0
            },
            "text/plain": [
              "Downloading (…)solve/main/vocab.txt:   0%|          | 0.00/232k [00:00<?, ?B/s]"
            ]
          },
          "metadata": {},
          "output_type": "display_data"
        },
        {
          "data": {
            "application/vnd.jupyter.widget-view+json": {
              "model_id": "4ccf83a101e14fd695670bd24e7a9592",
              "version_major": 2,
              "version_minor": 0
            },
            "text/plain": [
              "Downloading (…)/main/tokenizer.json:   0%|          | 0.00/466k [00:00<?, ?B/s]"
            ]
          },
          "metadata": {},
          "output_type": "display_data"
        },
        {
          "data": {
            "application/vnd.jupyter.widget-view+json": {
              "model_id": "3479bc27b7884f35a31ffe562cd09377",
              "version_major": 2,
              "version_minor": 0
            },
            "text/plain": [
              "Map:   0%|          | 0/5274 [00:00<?, ? examples/s]"
            ]
          },
          "metadata": {},
          "output_type": "display_data"
        },
        {
          "data": {
            "application/vnd.jupyter.widget-view+json": {
              "model_id": "7a62854bd0ad4c66903968a0171d2b6c",
              "version_major": 2,
              "version_minor": 0
            },
            "text/plain": [
              "Casting the dataset:   0%|          | 0/5274 [00:00<?, ? examples/s]"
            ]
          },
          "metadata": {},
          "output_type": "display_data"
        },
        {
          "data": {
            "application/vnd.jupyter.widget-view+json": {
              "model_id": "00c21399c49c4cbbb1fc9df0de8485e5",
              "version_major": 2,
              "version_minor": 0
            },
            "text/plain": [
              "Map:   0%|          | 0/1896 [00:00<?, ? examples/s]"
            ]
          },
          "metadata": {},
          "output_type": "display_data"
        },
        {
          "data": {
            "application/vnd.jupyter.widget-view+json": {
              "model_id": "dea37f3df92f4057a3e08868a9561c2b",
              "version_major": 2,
              "version_minor": 0
            },
            "text/plain": [
              "Casting the dataset:   0%|          | 0/1896 [00:00<?, ? examples/s]"
            ]
          },
          "metadata": {},
          "output_type": "display_data"
        },
        {
          "name": "stderr",
          "output_type": "stream",
          "text": [
            "You're using a BertTokenizerFast tokenizer. Please note that with a fast tokenizer, using the `__call__` method is faster than using a method to encode the text followed by a call to the `pad` method to get a padded encoding.\n"
          ]
        },
        {
          "data": {
            "text/html": [
              "\n",
              "    <div>\n",
              "      \n",
              "      <progress value='1320' max='1320' style='width:300px; height:20px; vertical-align: middle;'></progress>\n",
              "      [1320/1320 05:58, Epoch 8/8]\n",
              "    </div>\n",
              "    <table border=\"1\" class=\"dataframe\">\n",
              "  <thead>\n",
              " <tr style=\"text-align: left;\">\n",
              "      <th>Epoch</th>\n",
              "      <th>Training Loss</th>\n",
              "      <th>Validation Loss</th>\n",
              "      <th>Macro f1</th>\n",
              "    </tr>\n",
              "  </thead>\n",
              "  <tbody>\n",
              "    <tr>\n",
              "      <td>1</td>\n",
              "      <td>0.409800</td>\n",
              "      <td>0.369595</td>\n",
              "      <td>0.131103</td>\n",
              "    </tr>\n",
              "    <tr>\n",
              "      <td>2</td>\n",
              "      <td>0.330000</td>\n",
              "      <td>0.338716</td>\n",
              "      <td>0.291091</td>\n",
              "    </tr>\n",
              "    <tr>\n",
              "      <td>3</td>\n",
              "      <td>0.287000</td>\n",
              "      <td>0.336260</td>\n",
              "      <td>0.331872</td>\n",
              "    </tr>\n",
              "    <tr>\n",
              "      <td>4</td>\n",
              "      <td>0.249600</td>\n",
              "      <td>0.334997</td>\n",
              "      <td>0.355853</td>\n",
              "    </tr>\n",
              "    <tr>\n",
              "      <td>5</td>\n",
              "      <td>0.217500</td>\n",
              "      <td>0.339361</td>\n",
              "      <td>0.354442</td>\n",
              "    </tr>\n",
              "    <tr>\n",
              "      <td>6</td>\n",
              "      <td>0.190900</td>\n",
              "      <td>0.349203</td>\n",
              "      <td>0.367490</td>\n",
              "    </tr>\n",
              "    <tr>\n",
              "      <td>7</td>\n",
              "      <td>0.172700</td>\n",
              "      <td>0.354313</td>\n",
              "      <td>0.368731</td>\n",
              "    </tr>\n",
              "    <tr>\n",
              "      <td>8</td>\n",
              "      <td>0.160300</td>\n",
              "      <td>0.354819</td>\n",
              "      <td>0.365836</td>\n",
              "    </tr>\n",
              "  </tbody>\n",
              "</table><p>"
            ],
            "text/plain": [
              "<IPython.core.display.HTML object>"
            ]
          },
          "metadata": {},
          "output_type": "display_data"
        }
      ],
      "source": [
        "training_checkpoint_path = drive_path + \"/checkpoint/\" + model_name\n",
        "save_model_path = drive_path + \"/trained_model/\" + model_name\n",
        "\n",
        "\n",
        "training_args = TrainingArguments(\n",
        "    evaluation_strategy=\"epoch\",\n",
        "    save_strategy=\"no\",\n",
        "    num_train_epochs=num_train_epochs,\n",
        "    weight_decay=0.01,\n",
        "    learning_rate=5e-5,\n",
        "    per_device_train_batch_size=BATCH_SIZE,\n",
        "    per_device_eval_batch_size=BATCH_SIZE,\n",
        "    fp16=True,\n",
        "    logging_steps= len(df_train) // BATCH_SIZE,\n",
        "    output_dir = training_checkpoint_path,\n",
        "    optim='adamw_torch',\n",
        "    report_to ='all',\n",
        ")\n",
        "\n",
        "model, tokenizer = load_model_tokenizer(model_name)\n",
        "\n",
        "df_train_tok = tokenize_dataset(df_train, tokenizer)\n",
        "df_val_tok = tokenize_dataset(df_val, tokenizer)\n",
        "\n",
        "trainer = Trainer(\n",
        "    model=model,\n",
        "    args=training_args,\n",
        "    compute_metrics=compute_metrics,\n",
        "    tokenizer= tokenizer,\n",
        "    train_dataset=df_train_tok,\n",
        "    eval_dataset=df_val_tok,\n",
        "  )\n",
        "\n",
        "trainer.train()\n",
        "trainer.save_model(save_model_path)\n",
        "\n",
        "del model\n",
        "torch.cuda.empty_cache()"
      ]
    },
    {
      "cell_type": "markdown",
      "metadata": {
        "id": "F2mvMaLE1r3K"
      },
      "source": [
        "Loading the model and evaluating it, storing its results"
      ]
    },
    {
      "cell_type": "code",
      "execution_count": 35,
      "metadata": {
        "id": "if9YsmYPDdSK"
      },
      "outputs": [],
      "source": [
        "model_name = 'bert-base-uncased'\n",
        "save_model_path = drive_path + \"/trained_model/\" + model_name\n",
        "\n",
        "model = AutoModelForSequenceClassification.from_pretrained(save_model_path).to(device)\n",
        "tokenizer = AutoTokenizer.from_pretrained(model_name)"
      ]
    },
    {
      "cell_type": "markdown",
      "metadata": {
        "id": "JBuRZM0Ltu9W"
      },
      "source": [
        "Computing and printing the best thresholds for each category and later evaluating on the test set, saving the model's metrics."
      ]
    },
    {
      "cell_type": "code",
      "execution_count": 36,
      "metadata": {
        "colab": {
          "base_uri": "https://localhost:8080/",
          "height": 904,
          "referenced_widgets": [
            "720ff9126ad04ac9bb207d5ce6620992",
            "2b22d64324034addbac4cc7f18c2924b",
            "d337c9a019134113a99db14761173447",
            "7172418a138a4bdca1b657a2b24fdf71",
            "8c999e219337428b8c3189544ce58b2a",
            "6af301d5d26e42beada5718b0d9a0ef2",
            "b1b6ceafe8004c928be14570d29cfb09",
            "b3dbbf9576cc49388682bf25ece3e026",
            "e2332088cdda40789baa4802fed4ceaf",
            "c0a7c008fd2e45d1926068ca82a8ed18",
            "0cb44827cfa24743b9cc48bf3c55cf99",
            "c47f37b746414894b9e1b185099c1e2b",
            "e486bc5bdef240cf9b30222cf7087751",
            "28d57ccb3e22419c836c50b01fa529be",
            "c7f7dea6648b43619ea0023753cc22d5",
            "99f882b8d50b45b5acd21a8701ed2874",
            "a4eb3f5732d848e1a83549c4cb634fc7",
            "71ececbc846f403391995672c9f6808c",
            "a0cd336b302444e58ee1d54b3c26c872",
            "fc02295a62414917ab8e917e06284bba",
            "a92f9f6e37aa413fb7427d04db814893",
            "79e227cfe0d243f699faedb3f25a83e2",
            "51b8ad8b9e4641319106d17593630de9",
            "f16b9bdbc4904eeaaa6a71a1fbdfaa9e",
            "8c0682fc57e4471bbbf38956792af3c3",
            "31ca3bf127b446aa8d9f32eddf7da771",
            "17dc1382ee894e4bab7230825ffe221b",
            "629202df2397460bba6742116fced3ff",
            "9a08ecb264364c759a3b7e4df4b7e418",
            "bab07d9466ab45768611521fef7391df",
            "6ee66a4fd4a54e3299762965c3c69a2e",
            "5574845d752a4e4e94684dc745c226cd",
            "4c5beb0d34244268a90872a9db78c697",
            "806d53fb3ce947d99082ae8944a0fe30",
            "bc064bc6061742e8af5e33e5af94a9bf",
            "f7adad6c6a3a4849a910eed93d68c6c0",
            "89c1cbc5f3c842b0ab02cae375841439",
            "ba767013129747778d4f65fe0b47be04",
            "abfad5ec98ff4230a5e3b32f4701a930",
            "a0dc77a245a84e9ca6bbc2f3d7fc5467",
            "c9211205f43e4770b75961c33ec4187d",
            "ebe1e80ea65546f798c6b3e39aa86845",
            "cf2d8cd702704046a72449724174c8c2",
            "72a19f0b901942b6a3cdf1879d54582e",
            "eb459c464a1646209eb4d8ad1755ee57",
            "c7bbc61c5281400aae1eb9af36592bfb",
            "8127f8f45d7843a5affede31a275f3f7",
            "06caab75ffb3481196765a8c47773aa5",
            "c509d17e6e4f4493b6ef98a38d6b9d8d",
            "61590c13b6ea4615ac97413638a09eb1",
            "682daf5c5d2f4e1d9150e68d5446baca",
            "622d4bcec18c47d18a7d16f537193a58",
            "e53342b36d904d7bbb4ad3bdbf8705b5",
            "4a9b4ad66ca9408ebe32a710df79335d",
            "0cafbf84bf224bac8c39725d4e66bb3c",
            "9e64e2db06194e1291c7a276859f0b6c",
            "b19aaad38a4340e5a8ce246254a11eb3",
            "a5cbfebcef364f2e8530a74bc1f0918d",
            "b4140cc02bc04e408c6a4b23bfdfc8a3",
            "c7d75c0e3f514dbe887c85abe34d4818",
            "59c4822e72da4afc8e2e6ef46b4ede17",
            "526d784fb2b844769ed49f427f564ce6",
            "03d517e05d1248f08b0c9fc0894b6ac7",
            "a5d347b45f0649dfac619a2edd1667ea",
            "fe8599517db14307822cb0b5b07f1c0b",
            "1f3eeafabe1d4766adc469744394c0db"
          ]
        },
        "id": "TUKDVZd0yT6i",
        "outputId": "7cdfec81-7230-4382-fb7e-1266637f317c"
      },
      "outputs": [
        {
          "data": {
            "application/vnd.jupyter.widget-view+json": {
              "model_id": "720ff9126ad04ac9bb207d5ce6620992",
              "version_major": 2,
              "version_minor": 0
            },
            "text/plain": [
              "Map:   0%|          | 0/7170 [00:00<?, ? examples/s]"
            ]
          },
          "metadata": {},
          "output_type": "display_data"
        },
        {
          "data": {
            "application/vnd.jupyter.widget-view+json": {
              "model_id": "c47f37b746414894b9e1b185099c1e2b",
              "version_major": 2,
              "version_minor": 0
            },
            "text/plain": [
              "Casting the dataset:   0%|          | 0/7170 [00:00<?, ? examples/s]"
            ]
          },
          "metadata": {},
          "output_type": "display_data"
        },
        {
          "data": {
            "application/vnd.jupyter.widget-view+json": {
              "model_id": "51b8ad8b9e4641319106d17593630de9",
              "version_major": 2,
              "version_minor": 0
            },
            "text/plain": [
              "Map:   0%|          | 0/7170 [00:00<?, ? examples/s]"
            ]
          },
          "metadata": {},
          "output_type": "display_data"
        },
        {
          "name": "stdout",
          "output_type": "stream",
          "text": [
            "Best threshold found for category Self-direction: thought = 0.47\n",
            "Best threshold found for category Self-direction: action = 0.38\n",
            "Best threshold found for category Stimulation = 0.27\n",
            "Best threshold found for category Hedonism = 0.3\n",
            "Best threshold found for category Achievement = 0.45\n",
            "Best threshold found for category Power: dominance = 0.27\n",
            "Best threshold found for category Power: resources = 0.46\n",
            "Best threshold found for category Face = 0.19\n",
            "Best threshold found for category Security: personal = 0.41\n",
            "Best threshold found for category Security: societal = 0.48\n",
            "Best threshold found for category Tradition = 0.35\n",
            "Best threshold found for category Conformity: rules = 0.38\n",
            "Best threshold found for category Conformity: interpersonal = 0.25\n",
            "Best threshold found for category Humility = 0.24\n",
            "Best threshold found for category Benevolence: caring = 0.34\n",
            "Best threshold found for category Benevolence: dependability = 0.29\n",
            "Best threshold found for category Universalism: concern = 0.47\n",
            "Best threshold found for category Universalism: nature = 0.34\n",
            "Best threshold found for category Universalism: tolerance = 0.31\n",
            "Best threshold found for category Universalism: objectivity = 0.33\n",
            "\n"
          ]
        },
        {
          "data": {
            "application/vnd.jupyter.widget-view+json": {
              "model_id": "806d53fb3ce947d99082ae8944a0fe30",
              "version_major": 2,
              "version_minor": 0
            },
            "text/plain": [
              "Map:   0%|          | 0/1576 [00:00<?, ? examples/s]"
            ]
          },
          "metadata": {},
          "output_type": "display_data"
        },
        {
          "data": {
            "application/vnd.jupyter.widget-view+json": {
              "model_id": "eb459c464a1646209eb4d8ad1755ee57",
              "version_major": 2,
              "version_minor": 0
            },
            "text/plain": [
              "Casting the dataset:   0%|          | 0/1576 [00:00<?, ? examples/s]"
            ]
          },
          "metadata": {},
          "output_type": "display_data"
        },
        {
          "data": {
            "application/vnd.jupyter.widget-view+json": {
              "model_id": "9e64e2db06194e1291c7a276859f0b6c",
              "version_major": 2,
              "version_minor": 0
            },
            "text/plain": [
              "Map:   0%|          | 0/1576 [00:00<?, ? examples/s]"
            ]
          },
          "metadata": {},
          "output_type": "display_data"
        },
        {
          "name": "stdout",
          "output_type": "stream",
          "text": [
            "                            precision    recall  f1-score   support\n",
            "\n",
            "   Self-direction: thought       0.57      0.44      0.50       143\n",
            "    Self-direction: action       0.64      0.57      0.60       391\n",
            "               Stimulation       0.42      0.06      0.11        77\n",
            "                  Hedonism       0.44      0.15      0.23        26\n",
            "               Achievement       0.61      0.49      0.54       412\n",
            "          Power: dominance       0.33      0.36      0.35       108\n",
            "          Power: resources       0.45      0.40      0.42       105\n",
            "                      Face       0.16      0.15      0.15        96\n",
            "        Security: personal       0.71      0.78      0.74       537\n",
            "        Security: societal       0.58      0.61      0.60       397\n",
            "                 Tradition       0.50      0.39      0.44       168\n",
            "         Conformity: rules       0.50      0.50      0.50       287\n",
            " Conformity: interpersonal       0.29      0.13      0.18        53\n",
            "                  Humility       0.13      0.07      0.09        74\n",
            "       Benevolence: caring       0.46      0.51      0.48       336\n",
            "Benevolence: dependability       0.26      0.22      0.24       163\n",
            "     Universalism: concern       0.66      0.72      0.69       588\n",
            "      Universalism: nature       0.84      0.62      0.72       144\n",
            "   Universalism: tolerance       0.42      0.38      0.40       195\n",
            " Universalism: objectivity       0.58      0.33      0.42       471\n",
            "\n",
            "                 micro avg       0.56      0.51      0.53      4771\n",
            "                 macro avg       0.48      0.39      0.42      4771\n",
            "              weighted avg       0.56      0.51      0.52      4771\n",
            "               samples avg       0.61      0.56      0.54      4771\n",
            "\n"
          ]
        },
        {
          "name": "stderr",
          "output_type": "stream",
          "text": [
            "/usr/local/lib/python3.10/dist-packages/sklearn/metrics/_classification.py:1344: UndefinedMetricWarning: Precision and F-score are ill-defined and being set to 0.0 in samples with no predicted labels. Use `zero_division` parameter to control this behavior.\n",
            "  _warn_prf(average, modifier, msg_start, len(result))\n"
          ]
        }
      ],
      "source": [
        "# computing best threshold for each category\n",
        "best_thresholds = compute_best_thresholds(model, tokenizer)\n",
        "\n",
        "# evaluation\n",
        "df_test_tokenized = tokenize_dataset(df_test, tokenizer)\n",
        "df_output = compute_evaluation_results(model, tokenizer, df_test_tokenized)\n",
        "\n",
        "# saving model's metrics\n",
        "bert_metrics = compute_model_report(model, tokenizer, df_output, best_thresholds)"
      ]
    },
    {
      "cell_type": "markdown",
      "metadata": {
        "id": "Qtb9XRZZMGOf"
      },
      "source": [
        "### **Model 3: XLNet-base**"
      ]
    },
    {
      "cell_type": "markdown",
      "metadata": {
        "id": "r9aPKDdS1zvG"
      },
      "source": [
        "Parameters used for `xlnet-base-cased`:\n",
        "- Batch size: 32\n",
        "- Learning rate: 2e-5\n",
        "- Optimizer: AdamW\n",
        "- Weight Dcay: 0.01\n",
        "- Number of epochs: 8"
      ]
    },
    {
      "cell_type": "code",
      "execution_count": 37,
      "metadata": {
        "id": "kRmBFHOs1dwu"
      },
      "outputs": [],
      "source": [
        "BATCH_SIZE = 32\n",
        "model_name = 'xlnet-base-cased'"
      ]
    },
    {
      "cell_type": "code",
      "execution_count": 38,
      "metadata": {
        "colab": {
          "base_uri": "https://localhost:8080/",
          "height": 573,
          "referenced_widgets": [
            "9e0833d24a10432f8f34f30e4393f6e9",
            "a222ab19568f4ea89f2b33525efefc17",
            "c64abe8f393c4936aded2a2cfed9384d",
            "daa975df7b7d4caaa6ae12c4700959a5",
            "4c2d5a32362f4d5ba8caaedf3b283b3a",
            "d2a03b226e414d0686e6ae0c584ec1e4",
            "a0e3c85b6c99464196eaa162b2fa118a",
            "6bb3440aec234845bdc2c470aedac0b3",
            "66d2d82738e74990859f2295795a42ec",
            "faadf56ce650400f954f9e304f6d4452",
            "b833d5ccee8e47e28226554fd37936f8",
            "eecc6df141eb47a4ac3ee7c9f8f8fafd",
            "41b3887959dc42949c27a541f95a586a",
            "83df2cf80ecf447a8d12b8074c9572a0",
            "6f694c4e31d3427f935f2b9b554730cf",
            "3258f1d814134b6eb4e72f96f53f7181",
            "fa8f42bf02404a658c05c1898089606c",
            "d70e269c68334b43a1cd8702852e22f9",
            "2284e727d1584868a42d3936a77212ae",
            "cdd09ccd79944be8a85024021272a794",
            "125b661031194f038a28f2161bb84893",
            "bcf18bd229064094b44f3f0afabb4ea6",
            "31a50e4ec84e496b95cb67121b577a95",
            "ed777824ba574171bdc382fb879af658",
            "5fe488bf515b48139e679a43cc14a0ae",
            "8615960f29fb492caa5ae650b3ef7e03",
            "bc69a6a8042e49a2814e9ebf547740d7",
            "94b3c6f61a484ca68ecdcc2d3fac37d8",
            "cecb434c2b09439181d4504f735cb742",
            "d4d2f29fdd2a4ffa92075561f6e4db1c",
            "581ed154b8904a71b8a2f6cc96b481d2",
            "6c9ab288408a4d1eb600b0a9c234299e",
            "2840f21e43d34527925ffbf749fee778",
            "14e475dab0b34c5386afb2c1dda8e758",
            "ba501f54ceb54574a1b8f508103cd56e",
            "4b5e5ec02f8f427ab604974ee35887fd",
            "ed19ee0b9f684e8791886477bfe048f5",
            "844f1f8ddb554923a6713c931a666d81",
            "914ffe465a5b49fb86209b8be72e0338",
            "bd9c9166f8664896a609439660b82c1e",
            "41cec2d5de9e49d6afec8edececc4fe7",
            "3170fd7502514e749a6382381d0eab59",
            "359a8023ef0b4699aca3ee9cb159d3ef",
            "75175d9c233b43c08d86b0954a8f00e6",
            "6ffbf0ec14484d798433f71210b1ec4d",
            "21d326cfac494c469b70b4526092c108",
            "ba8f74906486463988474ac823a07d42",
            "de73b2e6af314cf5887d6ef042bcde68",
            "cef76fcf52d34d20b1eea5e897f8c0c1",
            "af1bdbca8f27486a95e3199698fd1817",
            "6ab43ffc0ccd49ea97784137f88ecb59",
            "d09e7f9d44104c45969c438abbe45e06",
            "f1f910e0993d4644b6550ef2210a944f",
            "b741a1cadec143baac87a7acdb9bd4fc",
            "c878109d667646e6be31599a66543742",
            "6bc0b3fe446e48a2849c28b134c71221",
            "789ab39f84e14d5691be629a12b064cb",
            "fa1c005f14bd4387bdbeda371f0691b8",
            "a18453ec8ec84b8a8cf662c6254fd0e8",
            "069833e44f0c491395b4aac9c4a29fe9",
            "a7cb75de823b4a39a3579eae6fe92398",
            "588e49af1cb5479898ad6ed2939de671",
            "269f7b961e184405b97817cdf35cf970",
            "2255470a7a024475ab835e823e2341bc",
            "18d74957cbd14b61aae037e5a342a2d9",
            "070ff30fc753441b8141cb1019df4fba",
            "12aea4ea52834f64bd2699a65ae8ae76",
            "23fe9a11dcda4004b3356bd4fd5eb10d",
            "0becc27420274df5bef70fa998b3b4a7",
            "e55acbc5d95244a4864d0684604727cc",
            "adf616495079460b980899bba09f8f09",
            "b89302f01ba44ab6af4f37b6ff4ddd9e",
            "242f5352188348e8a969679e810e623b",
            "0b8856da260c40aaa8f8271bfba606ba",
            "9c6b67674b004f5f9efadcd2db8d61c3",
            "12c818118b2f443b83e7f5f6a16a38ae",
            "37132d23b4064bb3aa0279a94d04c20b",
            "4f44f60557704f82bfec28cea82ea4fb",
            "5aa4020b5b9e43a399819727751b70fc",
            "bd1cd347bc4046d284cca5ed91b2952a",
            "72e7359b886f4c5c826628e6dceb5c71",
            "ed8869340cce4c618f78151b64b4a279",
            "ce47d5b3bba14e74ac6f6eac433c798b",
            "a5d2bb34ea4e4980b3318c28c8fe3fc8",
            "25e0c6cb6d5c4dfd9ab205f26cb1b516",
            "4f72b7ec139f405f9bdad648706fc252",
            "820425664ee74978b5d3cc005482d87c",
            "3ab007c91cc1478b9adbd2fdb174b8e2"
          ]
        },
        "id": "A2TafwdOMHR3",
        "outputId": "2a19a539-91ad-4bba-99e4-9f4771faeb06"
      },
      "outputs": [
        {
          "data": {
            "application/vnd.jupyter.widget-view+json": {
              "model_id": "9e0833d24a10432f8f34f30e4393f6e9",
              "version_major": 2,
              "version_minor": 0
            },
            "text/plain": [
              "Downloading (…)lve/main/config.json:   0%|          | 0.00/760 [00:00<?, ?B/s]"
            ]
          },
          "metadata": {},
          "output_type": "display_data"
        },
        {
          "data": {
            "application/vnd.jupyter.widget-view+json": {
              "model_id": "eecc6df141eb47a4ac3ee7c9f8f8fafd",
              "version_major": 2,
              "version_minor": 0
            },
            "text/plain": [
              "Downloading pytorch_model.bin:   0%|          | 0.00/467M [00:00<?, ?B/s]"
            ]
          },
          "metadata": {},
          "output_type": "display_data"
        },
        {
          "name": "stderr",
          "output_type": "stream",
          "text": [
            "Some weights of the model checkpoint at xlnet-base-cased were not used when initializing XLNetForSequenceClassification: ['lm_loss.weight', 'lm_loss.bias']\n",
            "- This IS expected if you are initializing XLNetForSequenceClassification from the checkpoint of a model trained on another task or with another architecture (e.g. initializing a BertForSequenceClassification model from a BertForPreTraining model).\n",
            "- This IS NOT expected if you are initializing XLNetForSequenceClassification from the checkpoint of a model that you expect to be exactly identical (initializing a BertForSequenceClassification model from a BertForSequenceClassification model).\n",
            "Some weights of XLNetForSequenceClassification were not initialized from the model checkpoint at xlnet-base-cased and are newly initialized: ['logits_proj.weight', 'sequence_summary.summary.weight', 'sequence_summary.summary.bias', 'logits_proj.bias']\n",
            "You should probably TRAIN this model on a down-stream task to be able to use it for predictions and inference.\n"
          ]
        },
        {
          "data": {
            "application/vnd.jupyter.widget-view+json": {
              "model_id": "31a50e4ec84e496b95cb67121b577a95",
              "version_major": 2,
              "version_minor": 0
            },
            "text/plain": [
              "Downloading (…)ve/main/spiece.model:   0%|          | 0.00/798k [00:00<?, ?B/s]"
            ]
          },
          "metadata": {},
          "output_type": "display_data"
        },
        {
          "data": {
            "application/vnd.jupyter.widget-view+json": {
              "model_id": "14e475dab0b34c5386afb2c1dda8e758",
              "version_major": 2,
              "version_minor": 0
            },
            "text/plain": [
              "Downloading (…)/main/tokenizer.json:   0%|          | 0.00/1.38M [00:00<?, ?B/s]"
            ]
          },
          "metadata": {},
          "output_type": "display_data"
        },
        {
          "data": {
            "application/vnd.jupyter.widget-view+json": {
              "model_id": "6ffbf0ec14484d798433f71210b1ec4d",
              "version_major": 2,
              "version_minor": 0
            },
            "text/plain": [
              "Map:   0%|          | 0/5274 [00:00<?, ? examples/s]"
            ]
          },
          "metadata": {},
          "output_type": "display_data"
        },
        {
          "data": {
            "application/vnd.jupyter.widget-view+json": {
              "model_id": "6bc0b3fe446e48a2849c28b134c71221",
              "version_major": 2,
              "version_minor": 0
            },
            "text/plain": [
              "Casting the dataset:   0%|          | 0/5274 [00:00<?, ? examples/s]"
            ]
          },
          "metadata": {},
          "output_type": "display_data"
        },
        {
          "data": {
            "application/vnd.jupyter.widget-view+json": {
              "model_id": "12aea4ea52834f64bd2699a65ae8ae76",
              "version_major": 2,
              "version_minor": 0
            },
            "text/plain": [
              "Map:   0%|          | 0/1896 [00:00<?, ? examples/s]"
            ]
          },
          "metadata": {},
          "output_type": "display_data"
        },
        {
          "data": {
            "application/vnd.jupyter.widget-view+json": {
              "model_id": "4f44f60557704f82bfec28cea82ea4fb",
              "version_major": 2,
              "version_minor": 0
            },
            "text/plain": [
              "Casting the dataset:   0%|          | 0/1896 [00:00<?, ? examples/s]"
            ]
          },
          "metadata": {},
          "output_type": "display_data"
        },
        {
          "name": "stderr",
          "output_type": "stream",
          "text": [
            "You're using a XLNetTokenizerFast tokenizer. Please note that with a fast tokenizer, using the `__call__` method is faster than using a method to encode the text followed by a call to the `pad` method to get a padded encoding.\n"
          ]
        },
        {
          "data": {
            "text/html": [
              "\n",
              "    <div>\n",
              "      \n",
              "      <progress value='1320' max='1320' style='width:300px; height:20px; vertical-align: middle;'></progress>\n",
              "      [1320/1320 09:40, Epoch 8/8]\n",
              "    </div>\n",
              "    <table border=\"1\" class=\"dataframe\">\n",
              "  <thead>\n",
              " <tr style=\"text-align: left;\">\n",
              "      <th>Epoch</th>\n",
              "      <th>Training Loss</th>\n",
              "      <th>Validation Loss</th>\n",
              "      <th>Macro f1</th>\n",
              "    </tr>\n",
              "  </thead>\n",
              "  <tbody>\n",
              "    <tr>\n",
              "      <td>1</td>\n",
              "      <td>0.412700</td>\n",
              "      <td>0.380794</td>\n",
              "      <td>0.108223</td>\n",
              "    </tr>\n",
              "    <tr>\n",
              "      <td>2</td>\n",
              "      <td>0.344900</td>\n",
              "      <td>0.345886</td>\n",
              "      <td>0.250381</td>\n",
              "    </tr>\n",
              "    <tr>\n",
              "      <td>3</td>\n",
              "      <td>0.312900</td>\n",
              "      <td>0.333012</td>\n",
              "      <td>0.297058</td>\n",
              "    </tr>\n",
              "    <tr>\n",
              "      <td>4</td>\n",
              "      <td>0.291200</td>\n",
              "      <td>0.327834</td>\n",
              "      <td>0.324264</td>\n",
              "    </tr>\n",
              "    <tr>\n",
              "      <td>5</td>\n",
              "      <td>0.274700</td>\n",
              "      <td>0.328532</td>\n",
              "      <td>0.329302</td>\n",
              "    </tr>\n",
              "    <tr>\n",
              "      <td>6</td>\n",
              "      <td>0.260700</td>\n",
              "      <td>0.325935</td>\n",
              "      <td>0.358709</td>\n",
              "    </tr>\n",
              "    <tr>\n",
              "      <td>7</td>\n",
              "      <td>0.251100</td>\n",
              "      <td>0.327374</td>\n",
              "      <td>0.359354</td>\n",
              "    </tr>\n",
              "    <tr>\n",
              "      <td>8</td>\n",
              "      <td>0.243300</td>\n",
              "      <td>0.327406</td>\n",
              "      <td>0.358592</td>\n",
              "    </tr>\n",
              "  </tbody>\n",
              "</table><p>"
            ],
            "text/plain": [
              "<IPython.core.display.HTML object>"
            ]
          },
          "metadata": {},
          "output_type": "display_data"
        }
      ],
      "source": [
        "training_checkpoint_path = drive_path + \"/checkpoint/\" + model_name\n",
        "save_model_path = drive_path + \"/trained_model/\" + model_name\n",
        "\n",
        "training_args = TrainingArguments(\n",
        "    evaluation_strategy=\"epoch\",\n",
        "    save_strategy=\"no\",\n",
        "    num_train_epochs=num_train_epochs,\n",
        "    weight_decay=0.01,\n",
        "    learning_rate=2e-5,\n",
        "    per_device_train_batch_size=BATCH_SIZE,\n",
        "    per_device_eval_batch_size=BATCH_SIZE,\n",
        "    fp16=True,\n",
        "    logging_steps= len(df_train) // BATCH_SIZE,\n",
        "    output_dir = training_checkpoint_path,\n",
        "    optim='adamw_torch',\n",
        "    report_to ='all',\n",
        ")\n",
        "\n",
        "model, tokenizer = load_model_tokenizer(model_name)\n",
        "\n",
        "df_train_tok = tokenize_dataset(df_train, tokenizer)\n",
        "df_val_tok = tokenize_dataset(df_val, tokenizer)\n",
        "\n",
        "trainer = Trainer(\n",
        "    model=model,\n",
        "    args=training_args,\n",
        "    compute_metrics=compute_metrics,\n",
        "    tokenizer= tokenizer,\n",
        "    train_dataset=df_train_tok,\n",
        "    eval_dataset=df_val_tok,\n",
        "  )\n",
        "\n",
        "trainer.train()\n",
        "trainer.save_model(save_model_path)\n",
        "\n",
        "del model\n",
        "torch.cuda.empty_cache()"
      ]
    },
    {
      "cell_type": "markdown",
      "metadata": {
        "id": "ERJEN5rx2Pcn"
      },
      "source": [
        "Loading the model and evaluating it, storing its results"
      ]
    },
    {
      "cell_type": "code",
      "execution_count": 39,
      "metadata": {
        "id": "SGXe5ISVOfTU"
      },
      "outputs": [],
      "source": [
        "model_name = 'xlnet-base-cased'\n",
        "save_model_path = drive_path + \"/trained_model/\" + model_name\n",
        "\n",
        "model = AutoModelForSequenceClassification.from_pretrained(save_model_path).to(device)\n",
        "tokenizer = AutoTokenizer.from_pretrained(model_name)"
      ]
    },
    {
      "cell_type": "markdown",
      "metadata": {
        "id": "5_w3tg_Q2baQ"
      },
      "source": [
        "Computing and printing the best thresholds for each category and later evaluating on the test set, saving the model's metrics."
      ]
    },
    {
      "cell_type": "code",
      "execution_count": 40,
      "metadata": {
        "colab": {
          "base_uri": "https://localhost:8080/",
          "height": 904,
          "referenced_widgets": [
            "5a07b2f39cb448c49a2fe0f105aa79ea",
            "3607603291d1490da1d07e34139c3560",
            "1f3f1791705345b787e62e0c08e6f713",
            "8e824659b201488c9c73adab0f167f32",
            "223e5ef55e784f56843ddd929e33ec4c",
            "e927ad5e44694a3f9010728064481517",
            "89de9232615741fc85ba4a92552f8406",
            "8cb5834c14dc4a5b8a2d6531da31f4b6",
            "edbe4c015306432bac43ec6625a69777",
            "01ab30caaf4f4336bf29b7111ec5c96b",
            "8346d05d0ff04842a70f557e20c63347",
            "37fb6cdf755a445c838acd6e042b36cc",
            "58a28d005a6e41979a8befdf11bce8a7",
            "fd8e877527d24ae69d8f431b8c9544fe",
            "62b26157a1004ce9b7949f8e1858b0ff",
            "c48ce5a2797442c9a071df98059f3459",
            "500ebb2e1388431fb737b8b71d09e85d",
            "a9e5ae5d51ac4795aae068a4ebcdf42d",
            "be4d28e501cc48c082ed712c5aadb30d",
            "146acc513fe74305a201cb69299fa486",
            "d59e43341e684684af60ac0aa8758711",
            "f95915bf0e6e40f59d0bbc12636c8c90",
            "3bc5919aa48e437bb9e762d2a753cb17",
            "e57e619de2cb4cc2b5cf77336d899aaa",
            "cb72246bf60742709244c537a75becd4",
            "168abe499af44b4a9e0f3ccca20c148d",
            "20adc01c47cf405ea0823bf5a585cb1b",
            "6b30266991144e94b37c46036eed368e",
            "8255a815276b4d9fb2872c470808afb9",
            "578ac92760bc4a00946456acaf6045c1",
            "017685b58677447d85b18fcdcb43bc24",
            "63763105643f43dca7f0cc4ce98dec72",
            "19018c725f58404880bc450920a47c8b",
            "bb1dfc4a2fe54c9ebfd4d34a17ceb341",
            "c9a50e135e7b420ba3c31acc8455a362",
            "c90c66e03c1b47a1848be436aed4efec",
            "68f3892c53144f2b895e4648317fbb8b",
            "113ff927b817415cad449c0832e7735e",
            "6031dd74724b48c0b9184cba3ec3bdcf",
            "2aa9e63701f5424dabea65d9fb12fad1",
            "19baf1f879584816a4aacd681c92516d",
            "0101b681f64d431db67bbb30b3f46976",
            "16a021d1d5b04e688364fc364972be6e",
            "aa9bf53ff6ed47ba99d2b7b091678868",
            "d60f440c88374d93b43dcb5f4520504e",
            "684b03d843d140b39dc1f8c5c2483919",
            "5739b94d32c440dbb68824c16ebe7e3a",
            "c552ecc23cba408ebe77d280c7d77bb0",
            "28294142a3c947f492305b938f96f50e",
            "9a167ab850754a8da608b0d35d69882a",
            "e8822d097780446ab1171e9c4d748349",
            "e3da13149e51438e984a986c67a9aabd",
            "dacef7d018034a7ba7015709c6dd8339",
            "4f7892e89ad4436ba06d4fc74bcb1632",
            "7f77dd637d7f4ceda9cb5cd81c34c972",
            "58f1237eeb9b48fe9a27c97fc9d61fd3",
            "0b3b03aa2a3b4be7bd787f11e635a20f",
            "706e73fc84de4fe39af1c0287512cf1b",
            "f330e10d14da4534abe765c95da98162",
            "8e4a0c3c960b41ba8354a9d5ddb33598",
            "fa7fdec4c2684b69a40dfd807a6219a7",
            "52cb994b71854b17b4976124cad20000",
            "296d3f2907e344a6ac2ab248548e2a53",
            "410ac4b88bd74616ad80dfe551c13322",
            "fb4e8253aece410c9530729879e4b97e",
            "a8be6dc83e7c4c20ba178766d477998b"
          ]
        },
        "id": "YkAzq6AWzror",
        "outputId": "ed4bfdf4-a29a-4685-aedd-7df71c67e1aa"
      },
      "outputs": [
        {
          "data": {
            "application/vnd.jupyter.widget-view+json": {
              "model_id": "5a07b2f39cb448c49a2fe0f105aa79ea",
              "version_major": 2,
              "version_minor": 0
            },
            "text/plain": [
              "Map:   0%|          | 0/7170 [00:00<?, ? examples/s]"
            ]
          },
          "metadata": {},
          "output_type": "display_data"
        },
        {
          "data": {
            "application/vnd.jupyter.widget-view+json": {
              "model_id": "37fb6cdf755a445c838acd6e042b36cc",
              "version_major": 2,
              "version_minor": 0
            },
            "text/plain": [
              "Casting the dataset:   0%|          | 0/7170 [00:00<?, ? examples/s]"
            ]
          },
          "metadata": {},
          "output_type": "display_data"
        },
        {
          "data": {
            "application/vnd.jupyter.widget-view+json": {
              "model_id": "3bc5919aa48e437bb9e762d2a753cb17",
              "version_major": 2,
              "version_minor": 0
            },
            "text/plain": [
              "Map:   0%|          | 0/7170 [00:00<?, ? examples/s]"
            ]
          },
          "metadata": {},
          "output_type": "display_data"
        },
        {
          "name": "stdout",
          "output_type": "stream",
          "text": [
            "Best threshold found for category Self-direction: thought = 0.47\n",
            "Best threshold found for category Self-direction: action = 0.36\n",
            "Best threshold found for category Stimulation = 0.18\n",
            "Best threshold found for category Hedonism = 0.22\n",
            "Best threshold found for category Achievement = 0.32\n",
            "Best threshold found for category Power: dominance = 0.19\n",
            "Best threshold found for category Power: resources = 0.4\n",
            "Best threshold found for category Face = 0.16\n",
            "Best threshold found for category Security: personal = 0.49\n",
            "Best threshold found for category Security: societal = 0.38\n",
            "Best threshold found for category Tradition = 0.36\n",
            "Best threshold found for category Conformity: rules = 0.3\n",
            "Best threshold found for category Conformity: interpersonal = 0.18\n",
            "Best threshold found for category Humility = 0.17\n",
            "Best threshold found for category Benevolence: caring = 0.31\n",
            "Best threshold found for category Benevolence: dependability = 0.22\n",
            "Best threshold found for category Universalism: concern = 0.39\n",
            "Best threshold found for category Universalism: nature = 0.41\n",
            "Best threshold found for category Universalism: tolerance = 0.22\n",
            "Best threshold found for category Universalism: objectivity = 0.25\n",
            "\n"
          ]
        },
        {
          "data": {
            "application/vnd.jupyter.widget-view+json": {
              "model_id": "bb1dfc4a2fe54c9ebfd4d34a17ceb341",
              "version_major": 2,
              "version_minor": 0
            },
            "text/plain": [
              "Map:   0%|          | 0/1576 [00:00<?, ? examples/s]"
            ]
          },
          "metadata": {},
          "output_type": "display_data"
        },
        {
          "data": {
            "application/vnd.jupyter.widget-view+json": {
              "model_id": "d60f440c88374d93b43dcb5f4520504e",
              "version_major": 2,
              "version_minor": 0
            },
            "text/plain": [
              "Casting the dataset:   0%|          | 0/1576 [00:00<?, ? examples/s]"
            ]
          },
          "metadata": {},
          "output_type": "display_data"
        },
        {
          "data": {
            "application/vnd.jupyter.widget-view+json": {
              "model_id": "58f1237eeb9b48fe9a27c97fc9d61fd3",
              "version_major": 2,
              "version_minor": 0
            },
            "text/plain": [
              "Map:   0%|          | 0/1576 [00:00<?, ? examples/s]"
            ]
          },
          "metadata": {},
          "output_type": "display_data"
        },
        {
          "name": "stdout",
          "output_type": "stream",
          "text": [
            "                            precision    recall  f1-score   support\n",
            "\n",
            "   Self-direction: thought       0.46      0.50      0.48       143\n",
            "    Self-direction: action       0.65      0.61      0.63       391\n",
            "               Stimulation       0.16      0.10      0.13        77\n",
            "                  Hedonism       0.13      0.23      0.17        26\n",
            "               Achievement       0.59      0.56      0.57       412\n",
            "          Power: dominance       0.35      0.31      0.33       108\n",
            "          Power: resources       0.47      0.40      0.43       105\n",
            "                      Face       0.22      0.21      0.21        96\n",
            "        Security: personal       0.71      0.77      0.74       537\n",
            "        Security: societal       0.52      0.76      0.62       397\n",
            "                 Tradition       0.52      0.42      0.47       168\n",
            "         Conformity: rules       0.44      0.62      0.52       287\n",
            " Conformity: interpersonal       0.18      0.09      0.12        53\n",
            "                  Humility       0.07      0.09      0.08        74\n",
            "       Benevolence: caring       0.47      0.57      0.51       336\n",
            "Benevolence: dependability       0.28      0.34      0.30       163\n",
            "     Universalism: concern       0.63      0.79      0.70       588\n",
            "      Universalism: nature       0.79      0.61      0.69       144\n",
            "   Universalism: tolerance       0.35      0.52      0.42       195\n",
            " Universalism: objectivity       0.58      0.40      0.47       471\n",
            "\n",
            "                 micro avg       0.52      0.57      0.55      4771\n",
            "                 macro avg       0.43      0.45      0.43      4771\n",
            "              weighted avg       0.53      0.57      0.54      4771\n",
            "               samples avg       0.56      0.62      0.55      4771\n",
            "\n"
          ]
        },
        {
          "name": "stderr",
          "output_type": "stream",
          "text": [
            "/usr/local/lib/python3.10/dist-packages/sklearn/metrics/_classification.py:1344: UndefinedMetricWarning: Precision and F-score are ill-defined and being set to 0.0 in samples with no predicted labels. Use `zero_division` parameter to control this behavior.\n",
            "  _warn_prf(average, modifier, msg_start, len(result))\n"
          ]
        }
      ],
      "source": [
        "# computing best threshold for each category\n",
        "best_thresholds = compute_best_thresholds(model, tokenizer)\n",
        "\n",
        "# evaluation\n",
        "df_test_tokenized = tokenize_dataset(df_test, tokenizer)\n",
        "df_output = compute_evaluation_results(model, tokenizer, df_test_tokenized)\n",
        "\n",
        "# saving model's metrics\n",
        "xlnet_metrics = compute_model_report(model, tokenizer, df_output, best_thresholds)"
      ]
    },
    {
      "cell_type": "markdown",
      "metadata": {
        "id": "quKvXOP8G_EW"
      },
      "source": [
        "### **Model 4: RoBERTa-base**"
      ]
    },
    {
      "cell_type": "markdown",
      "metadata": {
        "id": "bi7aOkWS2Fi-"
      },
      "source": [
        "Parameters used for `roberta-base`:\n",
        "- Batch size: 16\n",
        "- Learning rate: 2e-5\n",
        "- Optimizer: AdamW\n",
        "- Weight Dcay: 0.01\n",
        "- Number of epochs: 8"
      ]
    },
    {
      "cell_type": "code",
      "execution_count": 47,
      "metadata": {
        "id": "gnQ816Qv8LsQ"
      },
      "outputs": [],
      "source": [
        "BATCH_SIZE = 16\n",
        "model_name = 'roberta-base'"
      ]
    },
    {
      "cell_type": "code",
      "execution_count": 48,
      "metadata": {
        "colab": {
          "base_uri": "https://localhost:8080/",
          "height": 445,
          "referenced_widgets": [
            "aa17454a72ee4389ab612ef606a3d094",
            "fee5e84a200845d5805d07359228b92b",
            "2c0dd1aea41f4a629bc8531803b4e25c",
            "1864263d24de4eea8855fd544a68d818",
            "a156dcd227e7448fae8b195b787355ee",
            "0d86069c3eb84c669c2fca8a1a3064c0",
            "0c81fa7545734b63825f131e35f8b60a",
            "dcfadea4d9694ab280d177da16c440a8",
            "ff291e1187004ae9894a6d35a620b805",
            "69a2c00d6372459091b69bb768db2f30",
            "f5bc68e5dc2645699bd679b0b3f64883",
            "cf0b77e9a69e44bebf879e34be8c2b67",
            "c2974836e58f4591acd810deedcb5b23",
            "0a9295ee2d8f44199a03cfbc7d50de54",
            "109049d99fc54ac0b7f7d98594aaab58",
            "091108177d43473aa4cdba453f8e6613",
            "ae0222d81e3c4cc195e8d40ebeb384de",
            "024b425b5c2248acb0a759ba19ac254f",
            "8c4cad20dfe345e09fc2431036b708d6",
            "2ab0fdc607584b89a09c4977fd5deb25",
            "3b168842de4745f8b1884dff62756977",
            "53b38029b91545b0880c65d98a83f729",
            "ee7d24fd1c624436b5ef8415acfc9277",
            "3e5f1afbe5874eaea299db965e18c433",
            "6f54d31572b44adc94ccb5a417881577",
            "d02f96cd52fb4c7ab812f5931d4d1918",
            "dd92419c178f423ba34908712698369f",
            "20b4e6c8a4f64442b4ad646d9e22749d",
            "9adce46b48d44b158a6f58f61ecb1655",
            "0b681d90cb694193bcbe0b93be453e95",
            "c05e834f54384c08a5fac9837c99e44d",
            "237344c373394ecda465dd9b1d52bef0",
            "3b15ff9bd93c4a5c9aed0808b6a36202",
            "583fc1792e504510969537b5a1116e5c",
            "ed36fac9461f48f08f4ad5ff73fc96ec",
            "f5cbcdfb8eee423bac16f301a32c3e62",
            "bcc69e6b3fbf40e98806dc5624e75932",
            "d9f24596dc78400695c87e33baa3b720",
            "367dfa1829bd4d9fa8a513249ed09343",
            "8dfe24ab59704e1da9a4332fef377b96",
            "3a6cbe9a4e07425d82dd253a68673090",
            "cf28c490b3404f97a33a8a2b760b9f27",
            "62291c7bce794e94b88f925887e90636",
            "a06177aeccdd41e48b39e1720e8a5482"
          ]
        },
        "id": "jh4VyKHRG-db",
        "outputId": "bcf78d96-4004-4838-b759-8171e518ff96"
      },
      "outputs": [
        {
          "name": "stderr",
          "output_type": "stream",
          "text": [
            "Some weights of the model checkpoint at roberta-base were not used when initializing RobertaForSequenceClassification: ['lm_head.dense.weight', 'lm_head.layer_norm.weight', 'roberta.pooler.dense.weight', 'lm_head.dense.bias', 'lm_head.bias', 'roberta.pooler.dense.bias', 'lm_head.layer_norm.bias', 'lm_head.decoder.weight']\n",
            "- This IS expected if you are initializing RobertaForSequenceClassification from the checkpoint of a model trained on another task or with another architecture (e.g. initializing a BertForSequenceClassification model from a BertForPreTraining model).\n",
            "- This IS NOT expected if you are initializing RobertaForSequenceClassification from the checkpoint of a model that you expect to be exactly identical (initializing a BertForSequenceClassification model from a BertForSequenceClassification model).\n",
            "Some weights of RobertaForSequenceClassification were not initialized from the model checkpoint at roberta-base and are newly initialized: ['classifier.out_proj.weight', 'classifier.dense.weight', 'classifier.out_proj.bias', 'classifier.dense.bias']\n",
            "You should probably TRAIN this model on a down-stream task to be able to use it for predictions and inference.\n"
          ]
        },
        {
          "data": {
            "application/vnd.jupyter.widget-view+json": {
              "model_id": "aa17454a72ee4389ab612ef606a3d094",
              "version_major": 2,
              "version_minor": 0
            },
            "text/plain": [
              "Map:   0%|          | 0/5274 [00:00<?, ? examples/s]"
            ]
          },
          "metadata": {},
          "output_type": "display_data"
        },
        {
          "data": {
            "application/vnd.jupyter.widget-view+json": {
              "model_id": "cf0b77e9a69e44bebf879e34be8c2b67",
              "version_major": 2,
              "version_minor": 0
            },
            "text/plain": [
              "Casting the dataset:   0%|          | 0/5274 [00:00<?, ? examples/s]"
            ]
          },
          "metadata": {},
          "output_type": "display_data"
        },
        {
          "data": {
            "application/vnd.jupyter.widget-view+json": {
              "model_id": "ee7d24fd1c624436b5ef8415acfc9277",
              "version_major": 2,
              "version_minor": 0
            },
            "text/plain": [
              "Map:   0%|          | 0/1896 [00:00<?, ? examples/s]"
            ]
          },
          "metadata": {},
          "output_type": "display_data"
        },
        {
          "data": {
            "application/vnd.jupyter.widget-view+json": {
              "model_id": "583fc1792e504510969537b5a1116e5c",
              "version_major": 2,
              "version_minor": 0
            },
            "text/plain": [
              "Casting the dataset:   0%|          | 0/1896 [00:00<?, ? examples/s]"
            ]
          },
          "metadata": {},
          "output_type": "display_data"
        },
        {
          "name": "stderr",
          "output_type": "stream",
          "text": [
            "You're using a RobertaTokenizerFast tokenizer. Please note that with a fast tokenizer, using the `__call__` method is faster than using a method to encode the text followed by a call to the `pad` method to get a padded encoding.\n"
          ]
        },
        {
          "data": {
            "text/html": [
              "\n",
              "    <div>\n",
              "      \n",
              "      <progress value='2640' max='2640' style='width:300px; height:20px; vertical-align: middle;'></progress>\n",
              "      [2640/2640 07:46, Epoch 8/8]\n",
              "    </div>\n",
              "    <table border=\"1\" class=\"dataframe\">\n",
              "  <thead>\n",
              " <tr style=\"text-align: left;\">\n",
              "      <th>Epoch</th>\n",
              "      <th>Training Loss</th>\n",
              "      <th>Validation Loss</th>\n",
              "      <th>Macro f1</th>\n",
              "    </tr>\n",
              "  </thead>\n",
              "  <tbody>\n",
              "    <tr>\n",
              "      <td>1</td>\n",
              "      <td>0.398900</td>\n",
              "      <td>0.348553</td>\n",
              "      <td>0.198855</td>\n",
              "    </tr>\n",
              "    <tr>\n",
              "      <td>2</td>\n",
              "      <td>0.322400</td>\n",
              "      <td>0.331486</td>\n",
              "      <td>0.300816</td>\n",
              "    </tr>\n",
              "    <tr>\n",
              "      <td>3</td>\n",
              "      <td>0.290900</td>\n",
              "      <td>0.326869</td>\n",
              "      <td>0.344730</td>\n",
              "    </tr>\n",
              "    <tr>\n",
              "      <td>4</td>\n",
              "      <td>0.267300</td>\n",
              "      <td>0.320955</td>\n",
              "      <td>0.351153</td>\n",
              "    </tr>\n",
              "    <tr>\n",
              "      <td>5</td>\n",
              "      <td>0.248300</td>\n",
              "      <td>0.319806</td>\n",
              "      <td>0.355929</td>\n",
              "    </tr>\n",
              "    <tr>\n",
              "      <td>6</td>\n",
              "      <td>0.233100</td>\n",
              "      <td>0.322964</td>\n",
              "      <td>0.389094</td>\n",
              "    </tr>\n",
              "    <tr>\n",
              "      <td>7</td>\n",
              "      <td>0.222100</td>\n",
              "      <td>0.325607</td>\n",
              "      <td>0.380464</td>\n",
              "    </tr>\n",
              "    <tr>\n",
              "      <td>8</td>\n",
              "      <td>0.213800</td>\n",
              "      <td>0.325321</td>\n",
              "      <td>0.384943</td>\n",
              "    </tr>\n",
              "  </tbody>\n",
              "</table><p>"
            ],
            "text/plain": [
              "<IPython.core.display.HTML object>"
            ]
          },
          "metadata": {},
          "output_type": "display_data"
        }
      ],
      "source": [
        "training_checkpoint_path = drive_path + \"/checkpoint/\" + model_name\n",
        "save_model_path = drive_path + \"/trained_model/\" + model_name\n",
        "\n",
        "\n",
        "training_args = TrainingArguments(\n",
        "    evaluation_strategy=\"epoch\",\n",
        "    save_strategy=\"no\",\n",
        "    num_train_epochs=num_train_epochs,\n",
        "    weight_decay=0.01,\n",
        "    learning_rate=2e-5,\n",
        "    per_device_train_batch_size=BATCH_SIZE,\n",
        "    per_device_eval_batch_size=BATCH_SIZE,\n",
        "    fp16=True,\n",
        "    logging_steps= len(df_train) // BATCH_SIZE,\n",
        "    output_dir = training_checkpoint_path,\n",
        "    optim='adamw_torch',\n",
        "    report_to ='all',\n",
        ")\n",
        "\n",
        "model, tokenizer = load_model_tokenizer(model_name)\n",
        "\n",
        "df_train_tok = tokenize_dataset(df_train, tokenizer)\n",
        "df_val_tok = tokenize_dataset(df_val, tokenizer)\n",
        "\n",
        "trainer = Trainer(\n",
        "    model=model,\n",
        "    args=training_args,\n",
        "    compute_metrics=compute_metrics,\n",
        "    tokenizer= tokenizer,\n",
        "    train_dataset=df_train_tok,\n",
        "    eval_dataset=df_val_tok,\n",
        "  )\n",
        "\n",
        "trainer.train()\n",
        "trainer.save_model(save_model_path)\n",
        "\n",
        "del model\n",
        "torch.cuda.empty_cache()"
      ]
    },
    {
      "cell_type": "code",
      "execution_count": 49,
      "metadata": {
        "id": "6GlOE-koOFAr"
      },
      "outputs": [],
      "source": [
        "model_name = 'roberta-base'\n",
        "save_model_path = drive_path + \"/trained_model/\" + model_name\n",
        "\n",
        "model = AutoModelForSequenceClassification.from_pretrained(save_model_path).to(device)\n",
        "tokenizer = AutoTokenizer.from_pretrained(model_name)"
      ]
    },
    {
      "cell_type": "markdown",
      "metadata": {
        "id": "bxU4ilkg2Qm5"
      },
      "source": [
        "Loading the model and evaluating it, storing its results"
      ]
    },
    {
      "cell_type": "markdown",
      "metadata": {
        "id": "r3T27-8r2eFC"
      },
      "source": [
        "Computing and printing the best thresholds for each category and later evaluating on the test set, saving the model's metrics."
      ]
    },
    {
      "cell_type": "code",
      "execution_count": 50,
      "metadata": {
        "colab": {
          "base_uri": "https://localhost:8080/",
          "height": 904,
          "referenced_widgets": [
            "060b0127de354c91a78d7529857981f1",
            "2b513c637a0141c8a3cbc2745e2d10b1",
            "a33c866d50ef48288ed1556e8ae21d80",
            "639236e94da944598b70cf1ad66b5a7e",
            "387a0f1f6bf54e2aaf5c5ed494830620",
            "97de44983ebf4516ad47ae7ea514925b",
            "02da6eebf83a468e99c06849a47bdc79",
            "6aa3e265b19746939e5b10ecfd4e5d78",
            "a9eb33546852469db8d5c75cdd1398fd",
            "5d6487c4ec2a46b693b3517ebd23259b",
            "2dd1bdd6220d4b96b93730bf7bf73cd3",
            "3821c413e0b8496c92301ed9de19f46c",
            "bab7a780d48e4963a0b9e182f71647c8",
            "5612770f5c9e4573ba2c14fac380a051",
            "205bd21e996e4f27800a4632ca9e28e1",
            "c58a12fe244a4134b961fd1625f239b5",
            "0f39b8d7f5194ebeb85879c464b08e54",
            "d4b53e5102e242c99da6a1f278d1458b",
            "7a5b05a8c19a43ae882d95a63e44438a",
            "9d579d1ceb3148c29c7aaffdd74f186c",
            "9cd83880667043138e6cdd7c488277a8",
            "a419d590459a4713ae30200b6edc26dd",
            "3a9aa0cfd88748a797cf339fd7c39845",
            "6a0036dd25fb4d81a92dae14e7c8120d",
            "8a76dda5e7d74a7796393df60a19685e",
            "99bbc8040935455f8e73d815ecaed5b8",
            "a7ad8f498df74231b1fadb97ab0ab95c",
            "6334acc527e14cb48c83296fb17e8187",
            "a6c9fa716d2d4994b4e523e6a1e78588",
            "423e1465803747c3b284e8a4016476a0",
            "9abe022289c84e3898e698c8203f2736",
            "7628425b8df048fdbf20a82a4aec5b73",
            "9674fda8c7ee40d5a2e3793f40c4dde2",
            "1c2bb014a0c64ecfa389ea9291686af5",
            "af5a5c39979c4c2a8befa4343927f83b",
            "d5ff02d5674c481d8a867efb88421f1b",
            "5c24131b3cd14da384cc70784bc50634",
            "c9532fbe6c9c47699dde11c897d3adfb",
            "b6622c9eee474cb888db7a3a718f4820",
            "fcde579396814b6796155d90fa938a03",
            "f807f30d298c46a7aa74c7cf719d91e0",
            "f8b40877a50f43e098db34cf69b787a6",
            "9511afec9b8d4b49ac0be7f38a5a681e",
            "ca7da539086443f18c1cb5fdc566bb5c",
            "db9eb261bce34a97ad5c195fcb801e51",
            "5fea535f9cb848e2aee5a0c2995db9f2",
            "3ad2849b80534c6ea2b257071ab303fc",
            "b195cde37bcd46a7a63625df8f19b450",
            "9789590afb0647e5aab9c64fb4724095",
            "32bd0ffb4bc141edbd6985564eee6e7f",
            "f449c68bd5b64890a58cadc7863ef3a2",
            "1b822c6636af496bbe18f800c33ce8bc",
            "393dd8bbefbb4427a9c5ac2ea487316b",
            "133ad136f94f40ce9755412bf07a4282",
            "8f9eb0c41b90457c90278aa8c0ca486b",
            "61cdbcbd86b54869918b5414d4609f86",
            "b6d7058b67544c09bf6fad8ddc3d493f",
            "4738c950929d454dad082363617c3ced",
            "3eaddfb7785647de9c9e1e4a020a9da1",
            "ef16753452a74694a5cc1dbfa23eb2cf",
            "0e05ece29630497f823a6195eaf2d5d4",
            "29f1fb853f8541e390362bde7e4b2d35",
            "745d662f1065428f8fd38146db5bb3b5",
            "14df38a27ff34499ad2a61ce0736cff3",
            "f11cbe38aec249dab55f0fd05b89fb0f",
            "70f49b4805f340ada26790d2556e83e4"
          ]
        },
        "id": "7o0RRz7ixXNO",
        "outputId": "d84c3657-ff0d-4233-fb8e-9c1fb8eaad6f"
      },
      "outputs": [
        {
          "data": {
            "application/vnd.jupyter.widget-view+json": {
              "model_id": "060b0127de354c91a78d7529857981f1",
              "version_major": 2,
              "version_minor": 0
            },
            "text/plain": [
              "Map:   0%|          | 0/7170 [00:00<?, ? examples/s]"
            ]
          },
          "metadata": {},
          "output_type": "display_data"
        },
        {
          "data": {
            "application/vnd.jupyter.widget-view+json": {
              "model_id": "3821c413e0b8496c92301ed9de19f46c",
              "version_major": 2,
              "version_minor": 0
            },
            "text/plain": [
              "Casting the dataset:   0%|          | 0/7170 [00:00<?, ? examples/s]"
            ]
          },
          "metadata": {},
          "output_type": "display_data"
        },
        {
          "data": {
            "application/vnd.jupyter.widget-view+json": {
              "model_id": "3a9aa0cfd88748a797cf339fd7c39845",
              "version_major": 2,
              "version_minor": 0
            },
            "text/plain": [
              "Map:   0%|          | 0/7170 [00:00<?, ? examples/s]"
            ]
          },
          "metadata": {},
          "output_type": "display_data"
        },
        {
          "name": "stdout",
          "output_type": "stream",
          "text": [
            "Best threshold found for category Self-direction: thought = 0.49\n",
            "Best threshold found for category Self-direction: action = 0.36\n",
            "Best threshold found for category Stimulation = 0.18\n",
            "Best threshold found for category Hedonism = 0.26\n",
            "Best threshold found for category Achievement = 0.38\n",
            "Best threshold found for category Power: dominance = 0.26\n",
            "Best threshold found for category Power: resources = 0.39\n",
            "Best threshold found for category Face = 0.17\n",
            "Best threshold found for category Security: personal = 0.45\n",
            "Best threshold found for category Security: societal = 0.46\n",
            "Best threshold found for category Tradition = 0.35\n",
            "Best threshold found for category Conformity: rules = 0.34\n",
            "Best threshold found for category Conformity: interpersonal = 0.25\n",
            "Best threshold found for category Humility = 0.25\n",
            "Best threshold found for category Benevolence: caring = 0.34\n",
            "Best threshold found for category Benevolence: dependability = 0.25\n",
            "Best threshold found for category Universalism: concern = 0.43\n",
            "Best threshold found for category Universalism: nature = 0.28\n",
            "Best threshold found for category Universalism: tolerance = 0.3\n",
            "Best threshold found for category Universalism: objectivity = 0.29\n",
            "\n"
          ]
        },
        {
          "data": {
            "application/vnd.jupyter.widget-view+json": {
              "model_id": "1c2bb014a0c64ecfa389ea9291686af5",
              "version_major": 2,
              "version_minor": 0
            },
            "text/plain": [
              "Map:   0%|          | 0/1576 [00:00<?, ? examples/s]"
            ]
          },
          "metadata": {},
          "output_type": "display_data"
        },
        {
          "data": {
            "application/vnd.jupyter.widget-view+json": {
              "model_id": "db9eb261bce34a97ad5c195fcb801e51",
              "version_major": 2,
              "version_minor": 0
            },
            "text/plain": [
              "Casting the dataset:   0%|          | 0/1576 [00:00<?, ? examples/s]"
            ]
          },
          "metadata": {},
          "output_type": "display_data"
        },
        {
          "data": {
            "application/vnd.jupyter.widget-view+json": {
              "model_id": "61cdbcbd86b54869918b5414d4609f86",
              "version_major": 2,
              "version_minor": 0
            },
            "text/plain": [
              "Map:   0%|          | 0/1576 [00:00<?, ? examples/s]"
            ]
          },
          "metadata": {},
          "output_type": "display_data"
        },
        {
          "name": "stdout",
          "output_type": "stream",
          "text": [
            "                            precision    recall  f1-score   support\n",
            "\n",
            "   Self-direction: thought       0.54      0.54      0.54       143\n",
            "    Self-direction: action       0.65      0.63      0.64       391\n",
            "               Stimulation       0.27      0.13      0.18        77\n",
            "                  Hedonism       0.54      0.27      0.36        26\n",
            "               Achievement       0.61      0.54      0.57       412\n",
            "          Power: dominance       0.37      0.34      0.36       108\n",
            "          Power: resources       0.45      0.39      0.42       105\n",
            "                      Face       0.21      0.17      0.19        96\n",
            "        Security: personal       0.73      0.76      0.75       537\n",
            "        Security: societal       0.63      0.64      0.64       397\n",
            "                 Tradition       0.53      0.60      0.56       168\n",
            "         Conformity: rules       0.54      0.53      0.54       287\n",
            " Conformity: interpersonal       0.53      0.19      0.28        53\n",
            "                  Humility       0.07      0.07      0.07        74\n",
            "       Benevolence: caring       0.47      0.54      0.50       336\n",
            "Benevolence: dependability       0.28      0.33      0.30       163\n",
            "     Universalism: concern       0.67      0.83      0.74       588\n",
            "      Universalism: nature       0.83      0.72      0.77       144\n",
            "   Universalism: tolerance       0.40      0.40      0.40       195\n",
            " Universalism: objectivity       0.61      0.37      0.46       471\n",
            "\n",
            "                 micro avg       0.57      0.56      0.57      4771\n",
            "                 macro avg       0.50      0.45      0.46      4771\n",
            "              weighted avg       0.57      0.56      0.56      4771\n",
            "               samples avg       0.62      0.62      0.57      4771\n",
            "\n"
          ]
        },
        {
          "name": "stderr",
          "output_type": "stream",
          "text": [
            "/usr/local/lib/python3.10/dist-packages/sklearn/metrics/_classification.py:1344: UndefinedMetricWarning: Precision and F-score are ill-defined and being set to 0.0 in samples with no predicted labels. Use `zero_division` parameter to control this behavior.\n",
            "  _warn_prf(average, modifier, msg_start, len(result))\n"
          ]
        }
      ],
      "source": [
        "# computing best threshold for each category\n",
        "best_thresholds = compute_best_thresholds(model, tokenizer)\n",
        "\n",
        "# tokenizing test set for evaluation\n",
        "df_test_tokenized = tokenize_dataset(df_test, tokenizer)\n",
        "df_output = compute_evaluation_results(model, tokenizer, df_test_tokenized)\n",
        "\n",
        "# saving model's metrics\n",
        "roberta_metrics = compute_model_report(model, tokenizer, df_output, best_thresholds)"
      ]
    },
    {
      "cell_type": "markdown",
      "metadata": {
        "id": "ZvvXQiSbNFrN"
      },
      "source": [
        "### Error analysis"
      ]
    },
    {
      "cell_type": "markdown",
      "metadata": {
        "id": "9Lu3YKrCWdVi"
      },
      "source": [
        "Some random examples of predictions are shown to evaluate and analyze the errors produced by the models, particularly on labels with lowest support"
      ]
    },
    {
      "cell_type": "code",
      "execution_count": null,
      "metadata": {
        "id": "OrKXy9sJkaL9"
      },
      "outputs": [],
      "source": [
        "def create_prediction_df(df_output, tokenizer, decode_labels):\n",
        "    prediction_df = pd.DataFrame(columns=['Input', 'Ground Truth Labels', 'Predicted Labels'])\n",
        "\n",
        "    # Number of arguments to show\n",
        "    n_args = 5\n",
        "    args = random.sample(range(1, len(df_output)), n_args)\n",
        "\n",
        "    for arg_idx in args:\n",
        "        row = df_output[arg_idx]\n",
        "        input_ids = row['input_ids'].cpu().data.numpy()\n",
        "        labels = row['labels'].cpu().data.numpy()\n",
        "        predictions = row['predictions'].cpu().data.numpy()\n",
        "        input_str = tokenizer.decode(input_ids, skip_special_tokens=True)\n",
        "\n",
        "        temp_df = pd.DataFrame({'Input': [input_str],\n",
        "                                'Ground Truth Labels': [decode_labels(labels)],\n",
        "                                'Predicted Labels': [decode_labels(predictions)]})\n",
        "\n",
        "        prediction_df = pd.concat([prediction_df, temp_df], ignore_index=True)\n",
        "\n",
        "    return prediction_df"
      ]
    },
    {
      "cell_type": "code",
      "execution_count": null,
      "metadata": {
        "id": "xSN5s4PWmCb2"
      },
      "outputs": [],
      "source": [
        "# to show the entire input arguments and predicted labels\n",
        "pd.set_option('display.max_colwidth', None)"
      ]
    },
    {
      "cell_type": "code",
      "execution_count": null,
      "metadata": {
        "colab": {
          "base_uri": "https://localhost:8080/",
          "height": 282
        },
        "id": "l5cAjr3slJBF",
        "outputId": "c16fe826-cd3b-4891-d05c-462c41e56f6f"
      },
      "outputs": [
        {
          "data": {
            "text/html": [
              "\n",
              "  <div id=\"df-4e3cae00-f717-4ad5-b2f2-8116cdcdd97b\">\n",
              "    <div class=\"colab-df-container\">\n",
              "      <div>\n",
              "<style scoped>\n",
              "    .dataframe tbody tr th:only-of-type {\n",
              "        vertical-align: middle;\n",
              "    }\n",
              "\n",
              "    .dataframe tbody tr th {\n",
              "        vertical-align: top;\n",
              "    }\n",
              "\n",
              "    .dataframe thead th {\n",
              "        text-align: right;\n",
              "    }\n",
              "</style>\n",
              "<table border=\"1\" class=\"dataframe\">\n",
              "  <thead>\n",
              "    <tr style=\"text-align: right;\">\n",
              "      <th></th>\n",
              "      <th>Input</th>\n",
              "      <th>Ground Truth Labels</th>\n",
              "      <th>Predicted Labels</th>\n",
              "    </tr>\n",
              "  </thead>\n",
              "  <tbody>\n",
              "    <tr>\n",
              "      <th>0</th>\n",
              "      <td>woman prohibit combat overmatche average man fight  in favor of  prohibit woman combat</td>\n",
              "      <td>[Achievement]</td>\n",
              "      <td>[Universalism: concern]</td>\n",
              "    </tr>\n",
              "    <tr>\n",
              "      <th>1</th>\n",
              "      <td>prisoner hold guantanamo bay big threat world must detain deal completely different way rest population safety  against  close guantanamo bay detention camp</td>\n",
              "      <td>[Security: societal, Universalism: concern]</td>\n",
              "      <td>[Security: societal, Universalism: concern]</td>\n",
              "    </tr>\n",
              "    <tr>\n",
              "      <th>2</th>\n",
              "      <td>time stop use animal entertainment purpose  in favor of  ban wild animal circus</td>\n",
              "      <td>[Universalism: nature]</td>\n",
              "      <td>[Universalism: nature]</td>\n",
              "    </tr>\n",
              "    <tr>\n",
              "      <th>3</th>\n",
              "      <td>affirmative action may lead reverse discrimination detriment nonbeneficiary party  in favor of  end affirmative action</td>\n",
              "      <td>[Universalism: concern]</td>\n",
              "      <td>[Universalism: concern]</td>\n",
              "    </tr>\n",
              "    <tr>\n",
              "      <th>4</th>\n",
              "      <td>racial profiling effective potential criminal stop commit crime  against  end racial profiling</td>\n",
              "      <td>[Achievement, Power: dominance, Security: societal]</td>\n",
              "      <td>[Security: societal, Conformity: rules, Universalism: concern]</td>\n",
              "    </tr>\n",
              "  </tbody>\n",
              "</table>\n",
              "</div>\n",
              "      <button class=\"colab-df-convert\" onclick=\"convertToInteractive('df-4e3cae00-f717-4ad5-b2f2-8116cdcdd97b')\"\n",
              "              title=\"Convert this dataframe to an interactive table.\"\n",
              "              style=\"display:none;\">\n",
              "        \n",
              "  <svg xmlns=\"http://www.w3.org/2000/svg\" height=\"24px\"viewBox=\"0 0 24 24\"\n",
              "       width=\"24px\">\n",
              "    <path d=\"M0 0h24v24H0V0z\" fill=\"none\"/>\n",
              "    <path d=\"M18.56 5.44l.94 2.06.94-2.06 2.06-.94-2.06-.94-.94-2.06-.94 2.06-2.06.94zm-11 1L8.5 8.5l.94-2.06 2.06-.94-2.06-.94L8.5 2.5l-.94 2.06-2.06.94zm10 10l.94 2.06.94-2.06 2.06-.94-2.06-.94-.94-2.06-.94 2.06-2.06.94z\"/><path d=\"M17.41 7.96l-1.37-1.37c-.4-.4-.92-.59-1.43-.59-.52 0-1.04.2-1.43.59L10.3 9.45l-7.72 7.72c-.78.78-.78 2.05 0 2.83L4 21.41c.39.39.9.59 1.41.59.51 0 1.02-.2 1.41-.59l7.78-7.78 2.81-2.81c.8-.78.8-2.07 0-2.86zM5.41 20L4 18.59l7.72-7.72 1.47 1.35L5.41 20z\"/>\n",
              "  </svg>\n",
              "      </button>\n",
              "      \n",
              "  <style>\n",
              "    .colab-df-container {\n",
              "      display:flex;\n",
              "      flex-wrap:wrap;\n",
              "      gap: 12px;\n",
              "    }\n",
              "\n",
              "    .colab-df-convert {\n",
              "      background-color: #E8F0FE;\n",
              "      border: none;\n",
              "      border-radius: 50%;\n",
              "      cursor: pointer;\n",
              "      display: none;\n",
              "      fill: #1967D2;\n",
              "      height: 32px;\n",
              "      padding: 0 0 0 0;\n",
              "      width: 32px;\n",
              "    }\n",
              "\n",
              "    .colab-df-convert:hover {\n",
              "      background-color: #E2EBFA;\n",
              "      box-shadow: 0px 1px 2px rgba(60, 64, 67, 0.3), 0px 1px 3px 1px rgba(60, 64, 67, 0.15);\n",
              "      fill: #174EA6;\n",
              "    }\n",
              "\n",
              "    [theme=dark] .colab-df-convert {\n",
              "      background-color: #3B4455;\n",
              "      fill: #D2E3FC;\n",
              "    }\n",
              "\n",
              "    [theme=dark] .colab-df-convert:hover {\n",
              "      background-color: #434B5C;\n",
              "      box-shadow: 0px 1px 3px 1px rgba(0, 0, 0, 0.15);\n",
              "      filter: drop-shadow(0px 1px 2px rgba(0, 0, 0, 0.3));\n",
              "      fill: #FFFFFF;\n",
              "    }\n",
              "  </style>\n",
              "\n",
              "      <script>\n",
              "        const buttonEl =\n",
              "          document.querySelector('#df-4e3cae00-f717-4ad5-b2f2-8116cdcdd97b button.colab-df-convert');\n",
              "        buttonEl.style.display =\n",
              "          google.colab.kernel.accessAllowed ? 'block' : 'none';\n",
              "\n",
              "        async function convertToInteractive(key) {\n",
              "          const element = document.querySelector('#df-4e3cae00-f717-4ad5-b2f2-8116cdcdd97b');\n",
              "          const dataTable =\n",
              "            await google.colab.kernel.invokeFunction('convertToInteractive',\n",
              "                                                     [key], {});\n",
              "          if (!dataTable) return;\n",
              "\n",
              "          const docLinkHtml = 'Like what you see? Visit the ' +\n",
              "            '<a target=\"_blank\" href=https://colab.research.google.com/notebooks/data_table.ipynb>data table notebook</a>'\n",
              "            + ' to learn more about interactive tables.';\n",
              "          element.innerHTML = '';\n",
              "          dataTable['output_type'] = 'display_data';\n",
              "          await google.colab.output.renderOutput(dataTable, element);\n",
              "          const docLink = document.createElement('div');\n",
              "          docLink.innerHTML = docLinkHtml;\n",
              "          element.appendChild(docLink);\n",
              "        }\n",
              "      </script>\n",
              "    </div>\n",
              "  </div>\n",
              "  "
            ],
            "text/plain": [
              "                                                                                                                                                          Input  \\\n",
              "0                                                                        woman prohibit combat overmatche average man fight  in favor of  prohibit woman combat   \n",
              "1  prisoner hold guantanamo bay big threat world must detain deal completely different way rest population safety  against  close guantanamo bay detention camp   \n",
              "2                                                                               time stop use animal entertainment purpose  in favor of  ban wild animal circus   \n",
              "3                                        affirmative action may lead reverse discrimination detriment nonbeneficiary party  in favor of  end affirmative action   \n",
              "4                                                                racial profiling effective potential criminal stop commit crime  against  end racial profiling   \n",
              "\n",
              "                                   Ground Truth Labels  \\\n",
              "0                                        [Achievement]   \n",
              "1          [Security: societal, Universalism: concern]   \n",
              "2                               [Universalism: nature]   \n",
              "3                              [Universalism: concern]   \n",
              "4  [Achievement, Power: dominance, Security: societal]   \n",
              "\n",
              "                                                 Predicted Labels  \n",
              "0                                         [Universalism: concern]  \n",
              "1                     [Security: societal, Universalism: concern]  \n",
              "2                                          [Universalism: nature]  \n",
              "3                                         [Universalism: concern]  \n",
              "4  [Security: societal, Conformity: rules, Universalism: concern]  "
            ]
          },
          "execution_count": 82,
          "metadata": {},
          "output_type": "execute_result"
        }
      ],
      "source": [
        "prediction_df = create_prediction_df(df_output, tokenizer, decode_labels)\n",
        "prediction_df"
      ]
    },
    {
      "cell_type": "markdown",
      "metadata": {
        "id": "GhYApdn32kXZ"
      },
      "source": [
        "The table shows different examples of input arguments with the corresponding ground truth labels and predicted labels. It is worth noting that, despite most of the predicted labels are correct, there are some which are missing and were not recognized by the model. In particular, it is likely that the missing or wrong human value categories are the ones with lower support, since the models struggle with their classification, and this is confirmed by the low F1 scores achieved by the models."
      ]
    },
    {
      "cell_type": "markdown",
      "metadata": {
        "id": "JutnQnNX0l4E"
      },
      "source": [
        "### Models' comparison"
      ]
    },
    {
      "cell_type": "code",
      "execution_count": 51,
      "metadata": {
        "id": "BGq__Tw0wO77"
      },
      "outputs": [],
      "source": [
        "def plot_models_statistics_f1(models, label_names):\n",
        "    '''\n",
        "    Plots a graphical representation showing the performance of the different models\n",
        "    in terms of F1-score achieved across the various categories, along with their support.\n",
        "\n",
        "    :param models: a dictionary of the models names and their corresponding metrics\n",
        "    :param label_names: the list of category label names\n",
        "\n",
        "    '''\n",
        "    colors = plt.rcParams['axes.prop_cycle'].by_key()['color']\n",
        "    num_labels = len(label_names)\n",
        "    x = np.arange(num_labels)\n",
        "\n",
        "    fig, ax = plt.subplots(figsize=(12, 4))\n",
        "    for i, (model_name, model_results) in enumerate(models.items()):\n",
        "        f1_scores = [model_results[str(j)]['f1-score'] for j in range(num_labels)]\n",
        "        supports = [model_results[str(j)]['support'] for j in range(num_labels)]\n",
        "\n",
        "        ax.plot(x, f1_scores, '-o', color=colors[i], label=model_name)\n",
        "        ax.bar(x, [s / sum(supports) for s in supports], color='steelblue')\n",
        "\n",
        "    ax.set_xlabel('Labels')\n",
        "    ax.set_ylabel('F1-score')\n",
        "    ax.set_xticks(x)\n",
        "    ax.set_xticklabels(label_names, rotation=45, ha='right', rotation_mode='anchor')\n",
        "    ax.set_yticks(np.linspace(0, 1, num=11))\n",
        "    ax.tick_params(labelleft=True)\n",
        "    ax.legend()\n",
        "\n",
        "    plt.show()"
      ]
    },
    {
      "cell_type": "code",
      "execution_count": 65,
      "metadata": {
        "id": "ZUMBvnzaSe3y"
      },
      "outputs": [],
      "source": [
        "models_metrics_dict = {'SVM': svm_metrics, 'BERT':bert_metrics, 'XLNet': xlnet_metrics, 'RoBERTa': roberta_metrics}"
      ]
    },
    {
      "cell_type": "markdown",
      "metadata": {
        "id": "BQaoj4ck3Gb5"
      },
      "source": [
        "Comparison of the F1-score achieved by SVM, BERT, RoBERTa and XLNet on the 20 human categories with their corresponding support"
      ]
    },
    {
      "cell_type": "code",
      "execution_count": 66,
      "metadata": {
        "colab": {
          "base_uri": "https://localhost:8080/",
          "height": 526
        },
        "id": "qiNtwPywwUyI",
        "outputId": "cf1e6a22-aeeb-48d5-a8ff-6bba66692ba2"
      },
      "outputs": [
        {
          "data": {
            "image/png": "[encoded data removed]",
            "text/plain": [
              "<Figure size 1200x400 with 1 Axes>"
            ]
          },
          "metadata": {},
          "output_type": "display_data"
        }
      ],
      "source": [
        "plot_models_statistics_f1(models_metrics_dict, label_names)"
      ]
    },
    {
      "cell_type": "markdown",
      "metadata": {
        "id": "F2Z01o4pVMLa"
      },
      "source": [
        "### Final considerations\n",
        "\n",
        "The models comparison of the F1 scores shows that there is a correlation between the F1 score and the support of the human value categories: a higher support leads to higher F1 scores and, inversely, a lower support leads to lower F1 scores. However, there are a few exceptions, such as Power: dominance, Power: resources, Tradition and Universalism: nature, where the F1-score is high despite the low support. This may be due to the fact that these categories contain instances with words or phrases that are particularly informative, allowing the models to accurately discriminate and classify these categories.\n",
        "\n",
        "The results of the experiments show that transformer-based models such as BERT, XLNet and RoBERTa outperform traditional machine learning models like SVM. Indeed, SVM achieved a final macro F1-score of 0.25, which is significantly lower than the top-performing model, RoBERTa, which instead achieved a macro F1-score of 0.46. Further experiments may involve considering only a subset of the human value categories and experimenting with data augmentation techniques in order to mitigate the class imbalance issue, as well as with transformer-based models of larger complexity."
      ]
    }
  ],
  "metadata": {
    "accelerator": "GPU",
    "colab": {
      "gpuType": "T4",
      "provenance": []
    },
    "gpuClass": "standard",
    "kernelspec": {
      "display_name": "Python 3 (ipykernel)",
      "language": "python",
      "name": "python3"
    },
    "language_info": {
      "codemirror_mode": {
        "name": "ipython",
        "version": 3
      },
      "file_extension": ".py",
      "mimetype": "text/x-python",
      "name": "python",
      "nbconvert_exporter": "python",
      "pygments_lexer": "ipython3",
      "version": "3.11.5"
    }
  },
  "nbformat": 4,
  "nbformat_minor": 4
}